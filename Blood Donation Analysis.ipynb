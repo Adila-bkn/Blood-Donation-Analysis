{
 "cells": [
  {
   "cell_type": "code",
   "execution_count": 205,
   "metadata": {},
   "outputs": [],
   "source": [
    "import pandas as pd\n",
    "import numpy as np\n",
    "import matplotlib.pyplot as plt\n",
    "import seaborn as sns\n",
    "from sklearn.metrics import accuracy_score, confusion_matrix,r2_score\n",
    "from sklearn.linear_model import LinearRegression\n",
    "from sklearn.model_selection import train_test_split, GridSearchCV, cross_val_score, KFold\n",
    "from sklearn.preprocessing import StandardScaler, LabelEncoder,PolynomialFeatures\n",
    "import random\n",
    "df=pd.DataFrame()\n",
    "\n",
    "random.seed(42)\n",
    "np.random.seed(40)\n",
    "%matplotlib inline\n",
    "\n"
   ]
  },
  {
   "cell_type": "raw",
   "metadata": {},
   "source": [
    "# READ INPUT FILES"
   ]
  },
  {
   "cell_type": "code",
   "execution_count": 206,
   "metadata": {},
   "outputs": [
    {
     "name": "stdout",
     "output_type": "stream",
     "text": [
      "Index(['Sr No', ' Blood Bank Name', ' State', ' District', ' City', ' Address',\n",
      "       'Pincode', ' Contact No', ' Mobile', ' Helpline', ' Fax', ' Email',\n",
      "       ' Website', ' Nodal Officer ', ' Contact Nodal Officer',\n",
      "       ' Mobile Nodal Officer', ' Email Nodal Officer',\n",
      "       ' Qualification Nodal Officer', ' Type', ' Blood Component Available',\n",
      "       ' Apheresis', ' Service Time', ' License #', ' Date License Obtained',\n",
      "       ' Date of Renewal', ' Latitude', ' Longitude'],\n",
      "      dtype='object')\n"
     ]
    }
   ],
   "source": [
    "Bloodbank = pd.read_csv('bb2.csv')\n",
    "BBT= pd.read_csv('Book1.csv')\n",
    "print(Bloodbank.columns)\n"
   ]
  },
  {
   "cell_type": "code",
   "execution_count": 207,
   "metadata": {},
   "outputs": [
    {
     "data": {
      "text/html": [
       "<div>\n",
       "<style scoped>\n",
       "    .dataframe tbody tr th:only-of-type {\n",
       "        vertical-align: middle;\n",
       "    }\n",
       "\n",
       "    .dataframe tbody tr th {\n",
       "        vertical-align: top;\n",
       "    }\n",
       "\n",
       "    .dataframe thead th {\n",
       "        text-align: right;\n",
       "    }\n",
       "</style>\n",
       "<table border=\"1\" class=\"dataframe\">\n",
       "  <thead>\n",
       "    <tr style=\"text-align: right;\">\n",
       "      <th></th>\n",
       "      <th>Sr No</th>\n",
       "      <th>Blood Bank Name</th>\n",
       "      <th>State</th>\n",
       "      <th>District</th>\n",
       "      <th>City</th>\n",
       "      <th>Address</th>\n",
       "      <th>Pincode</th>\n",
       "      <th>Contact No</th>\n",
       "      <th>Mobile</th>\n",
       "      <th>Helpline</th>\n",
       "      <th>...</th>\n",
       "      <th>Qualification Nodal Officer</th>\n",
       "      <th>Type</th>\n",
       "      <th>Blood Component Available</th>\n",
       "      <th>Apheresis</th>\n",
       "      <th>Service Time</th>\n",
       "      <th>License #</th>\n",
       "      <th>Date License Obtained</th>\n",
       "      <th>Date of Renewal</th>\n",
       "      <th>Latitude</th>\n",
       "      <th>Longitude</th>\n",
       "    </tr>\n",
       "  </thead>\n",
       "  <tbody>\n",
       "    <tr>\n",
       "      <th>0</th>\n",
       "      <td>1</td>\n",
       "      <td>G.B. Pant Hospital Blood bank</td>\n",
       "      <td>Andaman And Nicobar Islands</td>\n",
       "      <td>SOUTH ANDAMAN</td>\n",
       "      <td>Port Blair</td>\n",
       "      <td>Atlanta Point\\r\\nNear Cellular Jail\\r\\nP.O. Ab...</td>\n",
       "      <td>744104</td>\n",
       "      <td>03192 230628</td>\n",
       "      <td>9434266561</td>\n",
       "      <td>102</td>\n",
       "      <td>...</td>\n",
       "      <td>NaN</td>\n",
       "      <td>Government</td>\n",
       "      <td>YES</td>\n",
       "      <td>NO</td>\n",
       "      <td>24X7</td>\n",
       "      <td>DL1/CLAA/ANI</td>\n",
       "      <td>14.6.1996</td>\n",
       "      <td>01.01.2012</td>\n",
       "      <td>11.675442</td>\n",
       "      <td>92.747338</td>\n",
       "    </tr>\n",
       "    <tr>\n",
       "      <th>1</th>\n",
       "      <td>2</td>\n",
       "      <td>I.N.H.S. Dhanvantri</td>\n",
       "      <td>Andaman And Nicobar Islands</td>\n",
       "      <td>SOUTH ANDAMAN</td>\n",
       "      <td>Port Blair</td>\n",
       "      <td>Ashvini Nagar, Port Blair, Andaman and Nicobar...</td>\n",
       "      <td>744103</td>\n",
       "      <td>03192 248759</td>\n",
       "      <td>8001452200</td>\n",
       "      <td>NaN</td>\n",
       "      <td>...</td>\n",
       "      <td>MBBS, MD (Pathology)</td>\n",
       "      <td>Government</td>\n",
       "      <td>NO</td>\n",
       "      <td>NO</td>\n",
       "      <td>24X7</td>\n",
       "      <td>DL2/CLAA/ANI</td>\n",
       "      <td>14.06.1996</td>\n",
       "      <td>31.12.2016</td>\n",
       "      <td>11.649693</td>\n",
       "      <td>92.717418</td>\n",
       "    </tr>\n",
       "    <tr>\n",
       "      <th>2</th>\n",
       "      <td>3</td>\n",
       "      <td>Pillar Health Centre Blood Bank</td>\n",
       "      <td>Andaman And Nicobar Islands</td>\n",
       "      <td>SOUTH ANDAMAN</td>\n",
       "      <td>Port Blair</td>\n",
       "      <td>Lamba Line,\\r\\nP.B. 526,\\r\\nP.O. Junglighat, \\...</td>\n",
       "      <td>744104</td>\n",
       "      <td>03192 233193, 03192 233993</td>\n",
       "      <td>9474247585</td>\n",
       "      <td>03192 233193</td>\n",
       "      <td>...</td>\n",
       "      <td>MBBS, MD (Medicine)</td>\n",
       "      <td>Charity</td>\n",
       "      <td>NO</td>\n",
       "      <td>NO</td>\n",
       "      <td>24X7</td>\n",
       "      <td>DL3/CLAA/ANI</td>\n",
       "      <td>08.09.2010</td>\n",
       "      <td>10.06.2015</td>\n",
       "      <td>11.653229</td>\n",
       "      <td>92.730714</td>\n",
       "    </tr>\n",
       "    <tr>\n",
       "      <th>3</th>\n",
       "      <td>4</td>\n",
       "      <td>Indian Red Cross Society Blood Bank, District ...</td>\n",
       "      <td>Andhra Pradesh</td>\n",
       "      <td>ANANTAPUR</td>\n",
       "      <td>Anantapur</td>\n",
       "      <td>Near JNTU Engeneering College, Sarada Nagar, A...</td>\n",
       "      <td>515002</td>\n",
       "      <td>08554 246344</td>\n",
       "      <td>9441192365</td>\n",
       "      <td>NaN</td>\n",
       "      <td>...</td>\n",
       "      <td>MBBS, MD, DCP</td>\n",
       "      <td>Charity</td>\n",
       "      <td>YES</td>\n",
       "      <td>NO</td>\n",
       "      <td>24x7</td>\n",
       "      <td>13/ATP/AP/2005/BB/R</td>\n",
       "      <td>22.11.2005</td>\n",
       "      <td>21.11.2015</td>\n",
       "      <td>14.654936</td>\n",
       "      <td>77.609915</td>\n",
       "    </tr>\n",
       "    <tr>\n",
       "      <th>4</th>\n",
       "      <td>5</td>\n",
       "      <td>Government General Hospital Blood Bank</td>\n",
       "      <td>Andhra Pradesh</td>\n",
       "      <td>ANANTAPUR</td>\n",
       "      <td>Ananthapur</td>\n",
       "      <td>Government General Hospital, Ananthapur</td>\n",
       "      <td>515001</td>\n",
       "      <td>08554 275024</td>\n",
       "      <td>9866695858</td>\n",
       "      <td>NaN</td>\n",
       "      <td>...</td>\n",
       "      <td>MBBS, MD (Pathology)</td>\n",
       "      <td>Government</td>\n",
       "      <td>YES</td>\n",
       "      <td>NO</td>\n",
       "      <td>24x7</td>\n",
       "      <td>50/ATP/AP/97/BB/R</td>\n",
       "      <td>28.01.1997</td>\n",
       "      <td>01.01.2013</td>\n",
       "      <td>14.671459</td>\n",
       "      <td>77.596684</td>\n",
       "    </tr>\n",
       "  </tbody>\n",
       "</table>\n",
       "<p>5 rows × 27 columns</p>\n",
       "</div>"
      ],
      "text/plain": [
       "   Sr No                                    Blood Bank Name  \\\n",
       "0      1                      G.B. Pant Hospital Blood bank   \n",
       "1      2                                I.N.H.S. Dhanvantri   \n",
       "2      3                    Pillar Health Centre Blood Bank   \n",
       "3      4  Indian Red Cross Society Blood Bank, District ...   \n",
       "4      5             Government General Hospital Blood Bank   \n",
       "\n",
       "                         State       District        City  \\\n",
       "0  Andaman And Nicobar Islands  SOUTH ANDAMAN  Port Blair   \n",
       "1  Andaman And Nicobar Islands  SOUTH ANDAMAN  Port Blair   \n",
       "2  Andaman And Nicobar Islands  SOUTH ANDAMAN  Port Blair   \n",
       "3               Andhra Pradesh      ANANTAPUR   Anantapur   \n",
       "4               Andhra Pradesh      ANANTAPUR  Ananthapur   \n",
       "\n",
       "                                             Address Pincode  \\\n",
       "0  Atlanta Point\\r\\nNear Cellular Jail\\r\\nP.O. Ab...  744104   \n",
       "1  Ashvini Nagar, Port Blair, Andaman and Nicobar...  744103   \n",
       "2  Lamba Line,\\r\\nP.B. 526,\\r\\nP.O. Junglighat, \\...  744104   \n",
       "3  Near JNTU Engeneering College, Sarada Nagar, A...  515002   \n",
       "4            Government General Hospital, Ananthapur  515001   \n",
       "\n",
       "                   Contact No      Mobile      Helpline  ...  \\\n",
       "0                03192 230628  9434266561           102  ...   \n",
       "1                03192 248759  8001452200           NaN  ...   \n",
       "2  03192 233193, 03192 233993  9474247585  03192 233193  ...   \n",
       "3                08554 246344  9441192365           NaN  ...   \n",
       "4                08554 275024  9866695858           NaN  ...   \n",
       "\n",
       "   Qualification Nodal Officer        Type  Blood Component Available  \\\n",
       "0                          NaN  Government                        YES   \n",
       "1         MBBS, MD (Pathology)  Government                         NO   \n",
       "2          MBBS, MD (Medicine)     Charity                         NO   \n",
       "3                MBBS, MD, DCP     Charity                        YES   \n",
       "4         MBBS, MD (Pathology)  Government                        YES   \n",
       "\n",
       "   Apheresis  Service Time            License #  Date License Obtained  \\\n",
       "0         NO          24X7         DL1/CLAA/ANI              14.6.1996   \n",
       "1         NO          24X7         DL2/CLAA/ANI             14.06.1996   \n",
       "2         NO          24X7         DL3/CLAA/ANI             08.09.2010   \n",
       "3         NO          24x7  13/ATP/AP/2005/BB/R             22.11.2005   \n",
       "4         NO          24x7    50/ATP/AP/97/BB/R             28.01.1997   \n",
       "\n",
       "   Date of Renewal   Latitude  Longitude  \n",
       "0       01.01.2012  11.675442  92.747338  \n",
       "1       31.12.2016  11.649693  92.717418  \n",
       "2       10.06.2015  11.653229  92.730714  \n",
       "3       21.11.2015  14.654936  77.609915  \n",
       "4       01.01.2013  14.671459  77.596684  \n",
       "\n",
       "[5 rows x 27 columns]"
      ]
     },
     "execution_count": 207,
     "metadata": {},
     "output_type": "execute_result"
    }
   ],
   "source": [
    "Bloodbank.head()"
   ]
  },
  {
   "cell_type": "code",
   "execution_count": 208,
   "metadata": {},
   "outputs": [
    {
     "name": "stdout",
     "output_type": "stream",
     "text": [
      "dimension of Bloodbank data: (2823, 27)\n",
      "dimension of BloodbankTamilnadu data: (291, 28)\n"
     ]
    }
   ],
   "source": [
    "print(\"dimension of Bloodbank data: {}\".format(Bloodbank.shape))\n",
    "print(\"dimension of BloodbankTamilnadu data: {}\".format(BBT.shape))"
   ]
  },
  {
   "cell_type": "code",
   "execution_count": 209,
   "metadata": {},
   "outputs": [
    {
     "name": "stdout",
     "output_type": "stream",
     "text": [
      "<class 'pandas.core.frame.DataFrame'>\n",
      "RangeIndex: 2823 entries, 0 to 2822\n",
      "Data columns (total 27 columns):\n",
      " #   Column                        Non-Null Count  Dtype  \n",
      "---  ------                        --------------  -----  \n",
      " 0   Sr No                         2823 non-null   int64  \n",
      " 1    Blood Bank Name              2823 non-null   object \n",
      " 2    State                        2823 non-null   object \n",
      " 3    District                     2822 non-null   object \n",
      " 4    City                         2803 non-null   object \n",
      " 5    Address                      2754 non-null   object \n",
      " 6   Pincode                       2651 non-null   object \n",
      " 7    Contact No                   2524 non-null   object \n",
      " 8    Mobile                       2148 non-null   object \n",
      " 9    Helpline                     206 non-null    object \n",
      " 10   Fax                          491 non-null    object \n",
      " 11   Email                        1557 non-null   object \n",
      " 12   Website                      584 non-null    object \n",
      " 13   Nodal Officer                2237 non-null   object \n",
      " 14   Contact Nodal Officer        1308 non-null   object \n",
      " 15   Mobile Nodal Officer         2140 non-null   object \n",
      " 16   Email Nodal Officer          1991 non-null   object \n",
      " 17   Qualification Nodal Officer  1851 non-null   object \n",
      " 18   Type                         2744 non-null   object \n",
      " 19   Blood Component Available    2405 non-null   object \n",
      " 20   Apheresis                    2055 non-null   object \n",
      " 21   Service Time                 2421 non-null   object \n",
      " 22   License #                    2229 non-null   object \n",
      " 23   Date License Obtained        2125 non-null   object \n",
      " 24   Date of Renewal              2143 non-null   object \n",
      " 25   Latitude                     2823 non-null   float64\n",
      " 26   Longitude                    2823 non-null   float64\n",
      "dtypes: float64(2), int64(1), object(24)\n",
      "memory usage: 595.6+ KB\n"
     ]
    }
   ],
   "source": [
    "Bloodbank.info()\n",
    "\n",
    "\n"
   ]
  },
  {
   "cell_type": "code",
   "execution_count": 210,
   "metadata": {},
   "outputs": [
    {
     "data": {
      "text/html": [
       "<div>\n",
       "<style scoped>\n",
       "    .dataframe tbody tr th:only-of-type {\n",
       "        vertical-align: middle;\n",
       "    }\n",
       "\n",
       "    .dataframe tbody tr th {\n",
       "        vertical-align: top;\n",
       "    }\n",
       "\n",
       "    .dataframe thead th {\n",
       "        text-align: right;\n",
       "    }\n",
       "</style>\n",
       "<table border=\"1\" class=\"dataframe\">\n",
       "  <thead>\n",
       "    <tr style=\"text-align: right;\">\n",
       "      <th></th>\n",
       "      <th>Sr No</th>\n",
       "      <th>Latitude</th>\n",
       "      <th>Longitude</th>\n",
       "    </tr>\n",
       "  </thead>\n",
       "  <tbody>\n",
       "    <tr>\n",
       "      <th>count</th>\n",
       "      <td>2823.00000</td>\n",
       "      <td>2823.000000</td>\n",
       "      <td>2823.000000</td>\n",
       "    </tr>\n",
       "    <tr>\n",
       "      <th>mean</th>\n",
       "      <td>1412.00000</td>\n",
       "      <td>17.981589</td>\n",
       "      <td>68.188802</td>\n",
       "    </tr>\n",
       "    <tr>\n",
       "      <th>std</th>\n",
       "      <td>815.07423</td>\n",
       "      <td>9.302901</td>\n",
       "      <td>27.198724</td>\n",
       "    </tr>\n",
       "    <tr>\n",
       "      <th>min</th>\n",
       "      <td>1.00000</td>\n",
       "      <td>0.000000</td>\n",
       "      <td>0.000000</td>\n",
       "    </tr>\n",
       "    <tr>\n",
       "      <th>25%</th>\n",
       "      <td>706.50000</td>\n",
       "      <td>12.130980</td>\n",
       "      <td>74.229210</td>\n",
       "    </tr>\n",
       "    <tr>\n",
       "      <th>50%</th>\n",
       "      <td>1412.00000</td>\n",
       "      <td>19.215794</td>\n",
       "      <td>77.072134</td>\n",
       "    </tr>\n",
       "    <tr>\n",
       "      <th>75%</th>\n",
       "      <td>2117.50000</td>\n",
       "      <td>25.535837</td>\n",
       "      <td>79.853760</td>\n",
       "    </tr>\n",
       "    <tr>\n",
       "      <th>max</th>\n",
       "      <td>2823.00000</td>\n",
       "      <td>40.267194</td>\n",
       "      <td>96.101627</td>\n",
       "    </tr>\n",
       "  </tbody>\n",
       "</table>\n",
       "</div>"
      ],
      "text/plain": [
       "            Sr No     Latitude    Longitude\n",
       "count  2823.00000  2823.000000  2823.000000\n",
       "mean   1412.00000    17.981589    68.188802\n",
       "std     815.07423     9.302901    27.198724\n",
       "min       1.00000     0.000000     0.000000\n",
       "25%     706.50000    12.130980    74.229210\n",
       "50%    1412.00000    19.215794    77.072134\n",
       "75%    2117.50000    25.535837    79.853760\n",
       "max    2823.00000    40.267194    96.101627"
      ]
     },
     "execution_count": 210,
     "metadata": {},
     "output_type": "execute_result"
    }
   ],
   "source": [
    "Bloodbank.describe()\n"
   ]
  },
  {
   "cell_type": "code",
   "execution_count": 211,
   "metadata": {},
   "outputs": [
    {
     "data": {
      "text/plain": [
       "Sr No                              0\n",
       " Blood Bank Name                   0\n",
       " State                             0\n",
       " District                          1\n",
       " City                             20\n",
       " Address                          69\n",
       "Pincode                          172\n",
       " Contact No                      299\n",
       " Mobile                          675\n",
       " Helpline                       2617\n",
       " Fax                            2332\n",
       " Email                          1266\n",
       " Website                        2239\n",
       " Nodal Officer                   586\n",
       " Contact Nodal Officer          1515\n",
       " Mobile Nodal Officer            683\n",
       " Email Nodal Officer             832\n",
       " Qualification Nodal Officer     972\n",
       " Type                             79\n",
       " Blood Component Available       418\n",
       " Apheresis                       768\n",
       " Service Time                    402\n",
       " License #                       594\n",
       " Date License Obtained           698\n",
       " Date of Renewal                 680\n",
       " Latitude                          0\n",
       " Longitude                         0\n",
       "dtype: int64"
      ]
     },
     "execution_count": 211,
     "metadata": {},
     "output_type": "execute_result"
    }
   ],
   "source": [
    "Bloodbank.isnull().sum()\n"
   ]
  },
  {
   "cell_type": "code",
   "execution_count": 212,
   "metadata": {
    "scrolled": true
   },
   "outputs": [
    {
     "data": {
      "text/plain": [
       "Sr No                            0.000000\n",
       " Blood Bank Name                 0.000000\n",
       " State                           0.000000\n",
       " District                        0.035423\n",
       " City                            0.708466\n",
       " Address                         2.444208\n",
       "Pincode                          6.092809\n",
       " Contact No                     10.591569\n",
       " Mobile                         23.910733\n",
       " Helpline                       92.702798\n",
       " Fax                            82.607156\n",
       " Email                          44.845909\n",
       " Website                        79.312788\n",
       " Nodal Officer                  20.758059\n",
       " Contact Nodal Officer          53.666312\n",
       " Mobile Nodal Officer           24.194120\n",
       " Email Nodal Officer            29.472193\n",
       " Qualification Nodal Officer    34.431456\n",
       " Type                            2.798441\n",
       " Blood Component Available      14.806943\n",
       " Apheresis                      27.205101\n",
       " Service Time                   14.240170\n",
       " License #                      21.041445\n",
       " Date License Obtained          24.725469\n",
       " Date of Renewal                24.087850\n",
       " Latitude                        0.000000\n",
       " Longitude                       0.000000\n",
       "dtype: float64"
      ]
     },
     "execution_count": 212,
     "metadata": {},
     "output_type": "execute_result"
    }
   ],
   "source": [
    "Bloodbank.isnull().sum() / Bloodbank.shape[0] * 100"
   ]
  },
  {
   "cell_type": "raw",
   "metadata": {},
   "source": [
    "# DATA VISUALIZATION\n"
   ]
  },
  {
   "cell_type": "code",
   "execution_count": 213,
   "metadata": {},
   "outputs": [],
   "source": [
    "category = Bloodbank.select_dtypes(include='object')\n",
    "numerical = Bloodbank.select_dtypes(exclude='object')\n",
    "num=BBT.select_dtypes(exclude='object')"
   ]
  },
  {
   "cell_type": "code",
   "execution_count": 214,
   "metadata": {},
   "outputs": [
    {
     "name": "stdout",
     "output_type": "stream",
     "text": [
      "Sr No\n",
      " Latitude\n",
      " Longitude\n"
     ]
    }
   ],
   "source": [
    "for n in numerical.columns:\n",
    "    print(n)"
   ]
  },
  {
   "cell_type": "code",
   "execution_count": 215,
   "metadata": {},
   "outputs": [],
   "source": [
    "categorical = [  ' Blood Bank Name', ' State', ' District', ' City',\n",
    "       'Pincode', ' Contact No', ' Mobile', ' Helpline', ' Fax', ' Email',\n",
    "       ' Website', ' Nodal Officer ', ' Contact Nodal Officer',\n",
    "       ' Mobile Nodal Officer', ' Email Nodal Officer', 'Type',\n",
    "       ' Blood Component Available', ' Service Time',\n",
    "       ' License #', ' Date License Obtained', ' Date of Renewal']"
   ]
  },
  {
   "cell_type": "code",
   "execution_count": 216,
   "metadata": {},
   "outputs": [
    {
     "name": "stdout",
     "output_type": "stream",
     "text": [
      " Blood Component Available,(yes/no)\n"
     ]
    },
    {
     "data": {
      "image/png": "[encoded data removed]",
      "text/plain": [
       "<Figure size 432x288 with 1 Axes>"
      ]
     },
     "metadata": {},
     "output_type": "display_data"
    },
    {
     "name": "stdout",
     "output_type": "stream",
     "text": [
      " Type (gov,pvt,charity)\n"
     ]
    },
    {
     "data": {
      "image/png": "[encoded data removed]",
      "text/plain": [
       "<Figure size 432x288 with 1 Axes>"
      ]
     },
     "metadata": {},
     "output_type": "display_data"
    }
   ],
   "source": [
    "    print(' Blood Component Available,(yes/no)')\n",
    "    Bloodbank[' Blood Component Available'].value_counts().plot(kind='pie', autopct=\"%.2f\")\n",
    "    plt.show()\n",
    "    print(' Type (gov,pvt,charity)')\n",
    "    Bloodbank[' Type'].value_counts().plot(kind='pie', autopct=\"%.2f\")\n",
    "    plt.show() \n",
    "   \n",
    "   \n",
    "    "
   ]
  },
  {
   "cell_type": "code",
   "execution_count": 217,
   "metadata": {},
   "outputs": [
    {
     "name": "stdout",
     "output_type": "stream",
     "text": [
      " Blood banks in states \n"
     ]
    },
    {
     "data": {
      "image/png": "[encoded data removed]",
      "text/plain": [
       "<Figure size 432x288 with 1 Axes>"
      ]
     },
     "metadata": {
      "needs_background": "light"
     },
     "output_type": "display_data"
    }
   ],
   "source": [
    "    print(' Blood banks in states ')\n",
    "    Bloodbank[' State'].value_counts().plot(kind='bar')\n",
    "    plt.title(\"Bloodbanks in states\")\n",
    "    plt.xlabel('States')\n",
    "    plt.ylabel('no of blood banks')\n",
    "    plt.show()\n",
    "   "
   ]
  },
  {
   "cell_type": "code",
   "execution_count": 218,
   "metadata": {},
   "outputs": [
    {
     "data": {
      "text/html": [
       "<div>\n",
       "<style scoped>\n",
       "    .dataframe tbody tr th:only-of-type {\n",
       "        vertical-align: middle;\n",
       "    }\n",
       "\n",
       "    .dataframe tbody tr th {\n",
       "        vertical-align: top;\n",
       "    }\n",
       "\n",
       "    .dataframe thead th {\n",
       "        text-align: right;\n",
       "    }\n",
       "</style>\n",
       "<table border=\"1\" class=\"dataframe\">\n",
       "  <thead>\n",
       "    <tr style=\"text-align: right;\">\n",
       "      <th></th>\n",
       "      <th>Sr No</th>\n",
       "      <th>Blood Bank Name</th>\n",
       "      <th>State</th>\n",
       "      <th>District</th>\n",
       "      <th>City</th>\n",
       "      <th>Address</th>\n",
       "      <th>Pincode</th>\n",
       "      <th>Contact No</th>\n",
       "      <th>Mobile</th>\n",
       "      <th>Helpline</th>\n",
       "      <th>...</th>\n",
       "      <th>Type</th>\n",
       "      <th>Blood Component Available</th>\n",
       "      <th>Apheresis</th>\n",
       "      <th>Service Time</th>\n",
       "      <th>License #</th>\n",
       "      <th>Date License Obtained</th>\n",
       "      <th>Year of Renewal</th>\n",
       "      <th>Latitude</th>\n",
       "      <th>Longitude</th>\n",
       "      <th>Renewal target</th>\n",
       "    </tr>\n",
       "  </thead>\n",
       "  <tbody>\n",
       "    <tr>\n",
       "      <th>0</th>\n",
       "      <td>1</td>\n",
       "      <td>Government  Head quarters Hospital</td>\n",
       "      <td>Tamil Nadu</td>\n",
       "      <td>Ariyalur</td>\n",
       "      <td>Ariyalur</td>\n",
       "      <td>Perambalur Road, Ariyalur</td>\n",
       "      <td>621704</td>\n",
       "      <td>NaN</td>\n",
       "      <td>NaN</td>\n",
       "      <td>NaN</td>\n",
       "      <td>...</td>\n",
       "      <td>Government</td>\n",
       "      <td>NaN</td>\n",
       "      <td>NaN</td>\n",
       "      <td>NaN</td>\n",
       "      <td>NaN</td>\n",
       "      <td>NaN</td>\n",
       "      <td>NaN</td>\n",
       "      <td>0</td>\n",
       "      <td>0</td>\n",
       "      <td>NaN</td>\n",
       "    </tr>\n",
       "    <tr>\n",
       "      <th>1</th>\n",
       "      <td>2</td>\n",
       "      <td>CANCER INSTITUTE HOSPITAL BLOOD BANK</td>\n",
       "      <td>Tamil Nadu</td>\n",
       "      <td>Chennai</td>\n",
       "      <td>Adyar</td>\n",
       "      <td>Cancer Institute (WIA) ,No.18 Sardar Patel road</td>\n",
       "      <td>600036</td>\n",
       "      <td>044 22209150,044 24/754,044 22350241</td>\n",
       "      <td>NaN</td>\n",
       "      <td>NaN</td>\n",
       "      <td>...</td>\n",
       "      <td>Charity</td>\n",
       "      <td>YES</td>\n",
       "      <td>YES</td>\n",
       "      <td>24/7</td>\n",
       "      <td>126</td>\n",
       "      <td>5/13/1997</td>\n",
       "      <td>NaN</td>\n",
       "      <td>13.005335</td>\n",
       "      <td>80.239623</td>\n",
       "      <td>NaN</td>\n",
       "    </tr>\n",
       "    <tr>\n",
       "      <th>2</th>\n",
       "      <td>3</td>\n",
       "      <td>Rajiv Gandhi Government General Hospital</td>\n",
       "      <td>Tamil Nadu</td>\n",
       "      <td>Chennai</td>\n",
       "      <td>Chennai</td>\n",
       "      <td>General Hospital Road\\r\\nPark Town,\\r\\nChennai...</td>\n",
       "      <td>600003</td>\n",
       "      <td>044 25305711,  044 2530 5000</td>\n",
       "      <td>9436120190</td>\n",
       "      <td>NaN</td>\n",
       "      <td>...</td>\n",
       "      <td>Government</td>\n",
       "      <td>YES</td>\n",
       "      <td>YES</td>\n",
       "      <td>24/7</td>\n",
       "      <td>36/28c</td>\n",
       "      <td>NaN</td>\n",
       "      <td>NaN</td>\n",
       "      <td>13.081279</td>\n",
       "      <td>80.27678</td>\n",
       "      <td>NaN</td>\n",
       "    </tr>\n",
       "    <tr>\n",
       "      <th>3</th>\n",
       "      <td>4</td>\n",
       "      <td>The Institute of Child Health and Hospital for...</td>\n",
       "      <td>Tamil Nadu</td>\n",
       "      <td>Chennai</td>\n",
       "      <td>Chennai</td>\n",
       "      <td>Halls Road, Egmore, Chennai</td>\n",
       "      <td>600008</td>\n",
       "      <td>044 28191132  044 2819 2138</td>\n",
       "      <td>09445142097, 09941173095</td>\n",
       "      <td>NaN</td>\n",
       "      <td>...</td>\n",
       "      <td>Government</td>\n",
       "      <td>YES</td>\n",
       "      <td>NO</td>\n",
       "      <td>24/7</td>\n",
       "      <td>115/28c</td>\n",
       "      <td>31-03-1997</td>\n",
       "      <td>2012.0</td>\n",
       "      <td>13.072798</td>\n",
       "      <td>80.258257</td>\n",
       "      <td>2021.0</td>\n",
       "    </tr>\n",
       "    <tr>\n",
       "      <th>4</th>\n",
       "      <td>5</td>\n",
       "      <td>Government Kilpauk Medical College Hospital Bl...</td>\n",
       "      <td>Tamil Nadu</td>\n",
       "      <td>Chennai</td>\n",
       "      <td>Chennai</td>\n",
       "      <td>Government Kilpauk Medical College and Hospita...</td>\n",
       "      <td>600010</td>\n",
       "      <td>044 28364955</td>\n",
       "      <td>9941242840</td>\n",
       "      <td>NaN</td>\n",
       "      <td>...</td>\n",
       "      <td>Government</td>\n",
       "      <td>YES</td>\n",
       "      <td>NO</td>\n",
       "      <td>24/7</td>\n",
       "      <td>116/28c</td>\n",
       "      <td>NaN</td>\n",
       "      <td>2012.0</td>\n",
       "      <td>13.078315</td>\n",
       "      <td>80.243824</td>\n",
       "      <td>NaN</td>\n",
       "    </tr>\n",
       "  </tbody>\n",
       "</table>\n",
       "<p>5 rows × 28 columns</p>\n",
       "</div>"
      ],
      "text/plain": [
       "  Sr No                                    Blood Bank Name       State  \\\n",
       "0     1                 Government  Head quarters Hospital  Tamil Nadu   \n",
       "1     2               CANCER INSTITUTE HOSPITAL BLOOD BANK  Tamil Nadu   \n",
       "2     3           Rajiv Gandhi Government General Hospital  Tamil Nadu   \n",
       "3     4  The Institute of Child Health and Hospital for...  Tamil Nadu   \n",
       "4     5  Government Kilpauk Medical College Hospital Bl...  Tamil Nadu   \n",
       "\n",
       "   District      City                                            Address  \\\n",
       "0  Ariyalur  Ariyalur                          Perambalur Road, Ariyalur   \n",
       "1   Chennai     Adyar    Cancer Institute (WIA) ,No.18 Sardar Patel road   \n",
       "2   Chennai   Chennai  General Hospital Road\\r\\nPark Town,\\r\\nChennai...   \n",
       "3   Chennai   Chennai                        Halls Road, Egmore, Chennai   \n",
       "4   Chennai   Chennai  Government Kilpauk Medical College and Hospita...   \n",
       "\n",
       "  Pincode                            Contact No                    Mobile  \\\n",
       "0  621704                                   NaN                       NaN   \n",
       "1  600036  044 22209150,044 24/754,044 22350241                       NaN   \n",
       "2  600003          044 25305711,  044 2530 5000                9436120190   \n",
       "3  600008           044 28191132  044 2819 2138  09445142097, 09941173095   \n",
       "4  600010                          044 28364955                9941242840   \n",
       "\n",
       "   Helpline  ...        Type  Blood Component Available  Apheresis  \\\n",
       "0       NaN  ...  Government                        NaN        NaN   \n",
       "1       NaN  ...     Charity                        YES        YES   \n",
       "2       NaN  ...  Government                        YES        YES   \n",
       "3       NaN  ...  Government                        YES         NO   \n",
       "4       NaN  ...  Government                        YES         NO   \n",
       "\n",
       "   Service Time  License #  Date License Obtained  Year of Renewal   Latitude  \\\n",
       "0           NaN        NaN                    NaN              NaN          0   \n",
       "1          24/7        126              5/13/1997              NaN  13.005335   \n",
       "2          24/7     36/28c                    NaN              NaN  13.081279   \n",
       "3          24/7    115/28c             31-03-1997           2012.0  13.072798   \n",
       "4          24/7    116/28c                    NaN           2012.0  13.078315   \n",
       "\n",
       "   Longitude Renewal target  \n",
       "0          0            NaN  \n",
       "1  80.239623            NaN  \n",
       "2   80.27678            NaN  \n",
       "3  80.258257         2021.0  \n",
       "4  80.243824            NaN  \n",
       "\n",
       "[5 rows x 28 columns]"
      ]
     },
     "execution_count": 218,
     "metadata": {},
     "output_type": "execute_result"
    }
   ],
   "source": [
    "BBT.head()\n"
   ]
  },
  {
   "cell_type": "code",
   "execution_count": 219,
   "metadata": {},
   "outputs": [
    {
     "name": "stdout",
     "output_type": "stream",
     "text": [
      "Tamil Nadu\n"
     ]
    },
    {
     "data": {
      "image/png": "[encoded data removed]",
      "text/plain": [
       "<Figure size 432x288 with 1 Axes>"
      ]
     },
     "metadata": {
      "needs_background": "light"
     },
     "output_type": "display_data"
    },
    {
     "data": {
      "image/png": "[encoded data removed]",
      "text/plain": [
       "<Figure size 432x288 with 1 Axes>"
      ]
     },
     "metadata": {
      "needs_background": "light"
     },
     "output_type": "display_data"
    }
   ],
   "source": [
    "    print('Tamil Nadu')\n",
    "    BBT[' District'].value_counts().plot(kind='bar')\n",
    "    plt.title(\"Blood banks\")\n",
    "    plt.xlabel('District')\n",
    "    plt.ylabel('No.of.bloodbanks')\n",
    "    plt.show()\n",
    "    BBT[' Year of Renewal'].value_counts().plot(kind='bar')\n",
    "    plt.title(\"Frequency of Renewal by years\")\n",
    "    plt.xlabel('Years')\n",
    "    plt.ylabel('No.of.renewal')\n",
    "    plt.show()\n",
    "   \n",
    "    "
   ]
  },
  {
   "cell_type": "code",
   "execution_count": 220,
   "metadata": {},
   "outputs": [
    {
     "data": {
      "text/plain": [
       "Index([' Year of Renewal', 'Renewal target'], dtype='object')"
      ]
     },
     "execution_count": 220,
     "metadata": {},
     "output_type": "execute_result"
    }
   ],
   "source": [
    "num.columns"
   ]
  },
  {
   "cell_type": "code",
   "execution_count": 221,
   "metadata": {},
   "outputs": [
    {
     "data": {
      "text/plain": [
       "Index(['Sr No', ' Latitude', ' Longitude'], dtype='object')"
      ]
     },
     "execution_count": 221,
     "metadata": {},
     "output_type": "execute_result"
    }
   ],
   "source": [
    "numerical.columns"
   ]
  },
  {
   "cell_type": "raw",
   "metadata": {},
   "source": [
    "#EDA\n",
    "\n"
   ]
  },
  {
   "cell_type": "code",
   "execution_count": 222,
   "metadata": {},
   "outputs": [
    {
     "data": {
      "text/plain": [
       "<AxesSubplot:title={'center':'Target vs Actual Productivity(in years)'}, xlabel=' District'>"
      ]
     },
     "execution_count": 222,
     "metadata": {},
     "output_type": "execute_result"
    },
    {
     "data": {
      "image/png": "[encoded data removed]",
      "text/plain": [
       "<Figure size 432x288 with 1 Axes>"
      ]
     },
     "metadata": {
      "needs_background": "light"
     },
     "output_type": "display_data"
    }
   ],
   "source": [
    "\n",
    "PROD =BBT.groupby(' District').agg(actual = (' Year of Renewal','mean'), target = ('Renewal target', 'mean'))\n",
    "PROD.plot(kind='line', title=\"Target vs Actual Productivity(in years)\")"
   ]
  },
  {
   "cell_type": "code",
   "execution_count": 223,
   "metadata": {},
   "outputs": [],
   "source": [
    "BBT.drop(['Sr No', ' Blood Bank Name',' City', ' Address',\n",
    "       'Pincode', ' Contact No', ' Mobile', ' Helpline', ' Fax', ' Email',\n",
    "       ' Website', ' Nodal Officer ', ' Contact Nodal Officer',\n",
    "       ' Mobile Nodal Officer', ' Email Nodal Officer',\n",
    "       ' Qualification Nodal Officer',\n",
    "       ' Apheresis', ' Service Time', ' License #',' Date License Obtained',' Latitude', ' Longitude'], axis = 1, inplace = True)\n",
    "\n"
   ]
  },
  {
   "cell_type": "code",
   "execution_count": 224,
   "metadata": {},
   "outputs": [
    {
     "data": {
      "text/html": [
       "<div>\n",
       "<style scoped>\n",
       "    .dataframe tbody tr th:only-of-type {\n",
       "        vertical-align: middle;\n",
       "    }\n",
       "\n",
       "    .dataframe tbody tr th {\n",
       "        vertical-align: top;\n",
       "    }\n",
       "\n",
       "    .dataframe thead th {\n",
       "        text-align: right;\n",
       "    }\n",
       "</style>\n",
       "<table border=\"1\" class=\"dataframe\">\n",
       "  <thead>\n",
       "    <tr style=\"text-align: right;\">\n",
       "      <th></th>\n",
       "      <th>State</th>\n",
       "      <th>District</th>\n",
       "      <th>Type</th>\n",
       "      <th>Blood Component Available</th>\n",
       "      <th>Year of Renewal</th>\n",
       "      <th>Renewal target</th>\n",
       "    </tr>\n",
       "  </thead>\n",
       "  <tbody>\n",
       "    <tr>\n",
       "      <th>286</th>\n",
       "      <td>Tamil Nadu</td>\n",
       "      <td>Virudhunagar</td>\n",
       "      <td>Charity</td>\n",
       "      <td>NaN</td>\n",
       "      <td>NaN</td>\n",
       "      <td>NaN</td>\n",
       "    </tr>\n",
       "    <tr>\n",
       "      <th>287</th>\n",
       "      <td>Tamil Nadu</td>\n",
       "      <td>Virudhunagar</td>\n",
       "      <td>Government</td>\n",
       "      <td>NO</td>\n",
       "      <td>NaN</td>\n",
       "      <td>NaN</td>\n",
       "    </tr>\n",
       "    <tr>\n",
       "      <th>288</th>\n",
       "      <td>Tamil Nadu</td>\n",
       "      <td>Virudhunagar</td>\n",
       "      <td>Charity</td>\n",
       "      <td>NaN</td>\n",
       "      <td>NaN</td>\n",
       "      <td>NaN</td>\n",
       "    </tr>\n",
       "    <tr>\n",
       "      <th>289</th>\n",
       "      <td>Tamil Nadu</td>\n",
       "      <td>Virudhunagar</td>\n",
       "      <td>Charity</td>\n",
       "      <td>NO</td>\n",
       "      <td>2016.0</td>\n",
       "      <td>2021.0</td>\n",
       "    </tr>\n",
       "    <tr>\n",
       "      <th>290</th>\n",
       "      <td>Tamil Nadu</td>\n",
       "      <td>Virudhunagar</td>\n",
       "      <td>Government</td>\n",
       "      <td>NO</td>\n",
       "      <td>2012.0</td>\n",
       "      <td>2021.0</td>\n",
       "    </tr>\n",
       "  </tbody>\n",
       "</table>\n",
       "</div>"
      ],
      "text/plain": [
       "          State      District        Type  Blood Component Available  \\\n",
       "286  Tamil Nadu  Virudhunagar     Charity                        NaN   \n",
       "287  Tamil Nadu  Virudhunagar  Government                         NO   \n",
       "288  Tamil Nadu  Virudhunagar     Charity                        NaN   \n",
       "289  Tamil Nadu  Virudhunagar     Charity                         NO   \n",
       "290  Tamil Nadu  Virudhunagar  Government                         NO   \n",
       "\n",
       "      Year of Renewal  Renewal target  \n",
       "286               NaN             NaN  \n",
       "287               NaN             NaN  \n",
       "288               NaN             NaN  \n",
       "289            2016.0          2021.0  \n",
       "290            2012.0          2021.0  "
      ]
     },
     "execution_count": 224,
     "metadata": {},
     "output_type": "execute_result"
    }
   ],
   "source": [
    "BBT.tail()\n"
   ]
  },
  {
   "cell_type": "code",
   "execution_count": 225,
   "metadata": {
    "scrolled": false
   },
   "outputs": [
    {
     "data": {
      "text/plain": [
       " State                         object\n",
       " District                      object\n",
       " Type                          object\n",
       " Blood Component Available     object\n",
       " Year of Renewal              float64\n",
       "Renewal target                float64\n",
       "dtype: object"
      ]
     },
     "execution_count": 225,
     "metadata": {},
     "output_type": "execute_result"
    }
   ],
   "source": [
    "BBT.dtypes"
   ]
  },
  {
   "cell_type": "code",
   "execution_count": 226,
   "metadata": {},
   "outputs": [
    {
     "data": {
      "text/plain": [
       " State                         0\n",
       " District                      0\n",
       " Type                          0\n",
       " Blood Component Available    31\n",
       " Year of Renewal              93\n",
       "Renewal target                86\n",
       "dtype: int64"
      ]
     },
     "execution_count": 226,
     "metadata": {},
     "output_type": "execute_result"
    }
   ],
   "source": [
    "BBT.isnull().sum()"
   ]
  },
  {
   "cell_type": "code",
   "execution_count": 227,
   "metadata": {},
   "outputs": [
    {
     "data": {
      "text/html": [
       "<div>\n",
       "<style scoped>\n",
       "    .dataframe tbody tr th:only-of-type {\n",
       "        vertical-align: middle;\n",
       "    }\n",
       "\n",
       "    .dataframe tbody tr th {\n",
       "        vertical-align: top;\n",
       "    }\n",
       "\n",
       "    .dataframe thead th {\n",
       "        text-align: right;\n",
       "    }\n",
       "</style>\n",
       "<table border=\"1\" class=\"dataframe\">\n",
       "  <thead>\n",
       "    <tr style=\"text-align: right;\">\n",
       "      <th></th>\n",
       "      <th>State</th>\n",
       "      <th>District</th>\n",
       "      <th>Type</th>\n",
       "      <th>Blood Component Available</th>\n",
       "      <th>Year of Renewal</th>\n",
       "      <th>Renewal target</th>\n",
       "    </tr>\n",
       "  </thead>\n",
       "  <tbody>\n",
       "    <tr>\n",
       "      <th>0</th>\n",
       "      <td>Tamil Nadu</td>\n",
       "      <td>Ariyalur</td>\n",
       "      <td>Government</td>\n",
       "      <td>NaN</td>\n",
       "      <td>NaN</td>\n",
       "      <td>NaN</td>\n",
       "    </tr>\n",
       "    <tr>\n",
       "      <th>1</th>\n",
       "      <td>Tamil Nadu</td>\n",
       "      <td>Chennai</td>\n",
       "      <td>Charity</td>\n",
       "      <td>YES</td>\n",
       "      <td>NaN</td>\n",
       "      <td>NaN</td>\n",
       "    </tr>\n",
       "    <tr>\n",
       "      <th>2</th>\n",
       "      <td>Tamil Nadu</td>\n",
       "      <td>Chennai</td>\n",
       "      <td>Government</td>\n",
       "      <td>YES</td>\n",
       "      <td>NaN</td>\n",
       "      <td>NaN</td>\n",
       "    </tr>\n",
       "    <tr>\n",
       "      <th>3</th>\n",
       "      <td>Tamil Nadu</td>\n",
       "      <td>Chennai</td>\n",
       "      <td>Government</td>\n",
       "      <td>YES</td>\n",
       "      <td>2012.0</td>\n",
       "      <td>2021.0</td>\n",
       "    </tr>\n",
       "    <tr>\n",
       "      <th>4</th>\n",
       "      <td>Tamil Nadu</td>\n",
       "      <td>Chennai</td>\n",
       "      <td>Government</td>\n",
       "      <td>YES</td>\n",
       "      <td>2012.0</td>\n",
       "      <td>NaN</td>\n",
       "    </tr>\n",
       "    <tr>\n",
       "      <th>...</th>\n",
       "      <td>...</td>\n",
       "      <td>...</td>\n",
       "      <td>...</td>\n",
       "      <td>...</td>\n",
       "      <td>...</td>\n",
       "      <td>...</td>\n",
       "    </tr>\n",
       "    <tr>\n",
       "      <th>286</th>\n",
       "      <td>Tamil Nadu</td>\n",
       "      <td>Virudhunagar</td>\n",
       "      <td>Charity</td>\n",
       "      <td>NaN</td>\n",
       "      <td>NaN</td>\n",
       "      <td>NaN</td>\n",
       "    </tr>\n",
       "    <tr>\n",
       "      <th>287</th>\n",
       "      <td>Tamil Nadu</td>\n",
       "      <td>Virudhunagar</td>\n",
       "      <td>Government</td>\n",
       "      <td>NO</td>\n",
       "      <td>NaN</td>\n",
       "      <td>NaN</td>\n",
       "    </tr>\n",
       "    <tr>\n",
       "      <th>288</th>\n",
       "      <td>Tamil Nadu</td>\n",
       "      <td>Virudhunagar</td>\n",
       "      <td>Charity</td>\n",
       "      <td>NaN</td>\n",
       "      <td>NaN</td>\n",
       "      <td>NaN</td>\n",
       "    </tr>\n",
       "    <tr>\n",
       "      <th>289</th>\n",
       "      <td>Tamil Nadu</td>\n",
       "      <td>Virudhunagar</td>\n",
       "      <td>Charity</td>\n",
       "      <td>NO</td>\n",
       "      <td>2016.0</td>\n",
       "      <td>2021.0</td>\n",
       "    </tr>\n",
       "    <tr>\n",
       "      <th>290</th>\n",
       "      <td>Tamil Nadu</td>\n",
       "      <td>Virudhunagar</td>\n",
       "      <td>Government</td>\n",
       "      <td>NO</td>\n",
       "      <td>2012.0</td>\n",
       "      <td>2021.0</td>\n",
       "    </tr>\n",
       "  </tbody>\n",
       "</table>\n",
       "<p>291 rows × 6 columns</p>\n",
       "</div>"
      ],
      "text/plain": [
       "          State      District        Type  Blood Component Available  \\\n",
       "0    Tamil Nadu      Ariyalur  Government                        NaN   \n",
       "1    Tamil Nadu       Chennai     Charity                        YES   \n",
       "2    Tamil Nadu       Chennai  Government                        YES   \n",
       "3    Tamil Nadu       Chennai  Government                        YES   \n",
       "4    Tamil Nadu       Chennai  Government                        YES   \n",
       "..          ...           ...         ...                        ...   \n",
       "286  Tamil Nadu  Virudhunagar     Charity                        NaN   \n",
       "287  Tamil Nadu  Virudhunagar  Government                         NO   \n",
       "288  Tamil Nadu  Virudhunagar     Charity                        NaN   \n",
       "289  Tamil Nadu  Virudhunagar     Charity                         NO   \n",
       "290  Tamil Nadu  Virudhunagar  Government                         NO   \n",
       "\n",
       "      Year of Renewal  Renewal target  \n",
       "0                 NaN             NaN  \n",
       "1                 NaN             NaN  \n",
       "2                 NaN             NaN  \n",
       "3              2012.0          2021.0  \n",
       "4              2012.0             NaN  \n",
       "..                ...             ...  \n",
       "286               NaN             NaN  \n",
       "287               NaN             NaN  \n",
       "288               NaN             NaN  \n",
       "289            2016.0          2021.0  \n",
       "290            2012.0          2021.0  \n",
       "\n",
       "[291 rows x 6 columns]"
      ]
     },
     "execution_count": 227,
     "metadata": {},
     "output_type": "execute_result"
    }
   ],
   "source": [
    "BBT"
   ]
  },
  {
   "cell_type": "code",
   "execution_count": 228,
   "metadata": {},
   "outputs": [],
   "source": [
    "BBT.dropna(inplace=True)"
   ]
  },
  {
   "cell_type": "code",
   "execution_count": 229,
   "metadata": {},
   "outputs": [],
   "source": [
    "TBT=BBT"
   ]
  },
  {
   "cell_type": "code",
   "execution_count": 230,
   "metadata": {},
   "outputs": [
    {
     "data": {
      "text/html": [
       "<div>\n",
       "<style scoped>\n",
       "    .dataframe tbody tr th:only-of-type {\n",
       "        vertical-align: middle;\n",
       "    }\n",
       "\n",
       "    .dataframe tbody tr th {\n",
       "        vertical-align: top;\n",
       "    }\n",
       "\n",
       "    .dataframe thead th {\n",
       "        text-align: right;\n",
       "    }\n",
       "</style>\n",
       "<table border=\"1\" class=\"dataframe\">\n",
       "  <thead>\n",
       "    <tr style=\"text-align: right;\">\n",
       "      <th></th>\n",
       "      <th>State</th>\n",
       "      <th>District</th>\n",
       "      <th>Type</th>\n",
       "      <th>Blood Component Available</th>\n",
       "      <th>Year of Renewal</th>\n",
       "      <th>Renewal target</th>\n",
       "    </tr>\n",
       "  </thead>\n",
       "  <tbody>\n",
       "    <tr>\n",
       "      <th>3</th>\n",
       "      <td>Tamil Nadu</td>\n",
       "      <td>Chennai</td>\n",
       "      <td>Government</td>\n",
       "      <td>YES</td>\n",
       "      <td>2012.0</td>\n",
       "      <td>2021.0</td>\n",
       "    </tr>\n",
       "    <tr>\n",
       "      <th>7</th>\n",
       "      <td>Tamil Nadu</td>\n",
       "      <td>Chennai</td>\n",
       "      <td>Private</td>\n",
       "      <td>YES</td>\n",
       "      <td>2017.0</td>\n",
       "      <td>2021.0</td>\n",
       "    </tr>\n",
       "    <tr>\n",
       "      <th>8</th>\n",
       "      <td>Tamil Nadu</td>\n",
       "      <td>Chennai</td>\n",
       "      <td>Private</td>\n",
       "      <td>YES</td>\n",
       "      <td>2020.0</td>\n",
       "      <td>2021.0</td>\n",
       "    </tr>\n",
       "    <tr>\n",
       "      <th>9</th>\n",
       "      <td>Tamil Nadu</td>\n",
       "      <td>Chennai</td>\n",
       "      <td>Private</td>\n",
       "      <td>YES</td>\n",
       "      <td>2017.0</td>\n",
       "      <td>2021.0</td>\n",
       "    </tr>\n",
       "    <tr>\n",
       "      <th>10</th>\n",
       "      <td>Tamil Nadu</td>\n",
       "      <td>Chennai</td>\n",
       "      <td>Private</td>\n",
       "      <td>YES</td>\n",
       "      <td>2016.0</td>\n",
       "      <td>2021.0</td>\n",
       "    </tr>\n",
       "    <tr>\n",
       "      <th>...</th>\n",
       "      <td>...</td>\n",
       "      <td>...</td>\n",
       "      <td>...</td>\n",
       "      <td>...</td>\n",
       "      <td>...</td>\n",
       "      <td>...</td>\n",
       "    </tr>\n",
       "    <tr>\n",
       "      <th>283</th>\n",
       "      <td>Tamil Nadu</td>\n",
       "      <td>Virudhunagar</td>\n",
       "      <td>Government</td>\n",
       "      <td>NO</td>\n",
       "      <td>2016.0</td>\n",
       "      <td>2021.0</td>\n",
       "    </tr>\n",
       "    <tr>\n",
       "      <th>284</th>\n",
       "      <td>Tamil Nadu</td>\n",
       "      <td>Virudhunagar</td>\n",
       "      <td>Government</td>\n",
       "      <td>NO</td>\n",
       "      <td>2016.0</td>\n",
       "      <td>2021.0</td>\n",
       "    </tr>\n",
       "    <tr>\n",
       "      <th>285</th>\n",
       "      <td>Tamil Nadu</td>\n",
       "      <td>Virudhunagar</td>\n",
       "      <td>Private</td>\n",
       "      <td>NO</td>\n",
       "      <td>2014.0</td>\n",
       "      <td>2021.0</td>\n",
       "    </tr>\n",
       "    <tr>\n",
       "      <th>289</th>\n",
       "      <td>Tamil Nadu</td>\n",
       "      <td>Virudhunagar</td>\n",
       "      <td>Charity</td>\n",
       "      <td>NO</td>\n",
       "      <td>2016.0</td>\n",
       "      <td>2021.0</td>\n",
       "    </tr>\n",
       "    <tr>\n",
       "      <th>290</th>\n",
       "      <td>Tamil Nadu</td>\n",
       "      <td>Virudhunagar</td>\n",
       "      <td>Government</td>\n",
       "      <td>NO</td>\n",
       "      <td>2012.0</td>\n",
       "      <td>2021.0</td>\n",
       "    </tr>\n",
       "  </tbody>\n",
       "</table>\n",
       "<p>197 rows × 6 columns</p>\n",
       "</div>"
      ],
      "text/plain": [
       "          State      District        Type  Blood Component Available  \\\n",
       "3    Tamil Nadu       Chennai  Government                        YES   \n",
       "7    Tamil Nadu       Chennai     Private                        YES   \n",
       "8    Tamil Nadu       Chennai     Private                        YES   \n",
       "9    Tamil Nadu       Chennai     Private                        YES   \n",
       "10   Tamil Nadu       Chennai     Private                        YES   \n",
       "..          ...           ...         ...                        ...   \n",
       "283  Tamil Nadu  Virudhunagar  Government                         NO   \n",
       "284  Tamil Nadu  Virudhunagar  Government                         NO   \n",
       "285  Tamil Nadu  Virudhunagar     Private                         NO   \n",
       "289  Tamil Nadu  Virudhunagar     Charity                         NO   \n",
       "290  Tamil Nadu  Virudhunagar  Government                         NO   \n",
       "\n",
       "      Year of Renewal  Renewal target  \n",
       "3              2012.0          2021.0  \n",
       "7              2017.0          2021.0  \n",
       "8              2020.0          2021.0  \n",
       "9              2017.0          2021.0  \n",
       "10             2016.0          2021.0  \n",
       "..                ...             ...  \n",
       "283            2016.0          2021.0  \n",
       "284            2016.0          2021.0  \n",
       "285            2014.0          2021.0  \n",
       "289            2016.0          2021.0  \n",
       "290            2012.0          2021.0  \n",
       "\n",
       "[197 rows x 6 columns]"
      ]
     },
     "execution_count": 230,
     "metadata": {},
     "output_type": "execute_result"
    }
   ],
   "source": [
    "TBT"
   ]
  },
  {
   "cell_type": "code",
   "execution_count": 231,
   "metadata": {
    "scrolled": true
   },
   "outputs": [],
   "source": [
    "\n",
    "#TBT[' Type']=TBT[' Type'].astype(str)\n",
    "#TBT[' District']=TBT[' District'].astype(str)\n",
    "#TBT[' Blood Component Available ']=TBT[' Blood Component Available'].astype(str)\n",
    "#TBT=pd.get_dummies(TBT)\n",
    "\n",
    "#TBT.head()"
   ]
  },
  {
   "cell_type": "code",
   "execution_count": 232,
   "metadata": {},
   "outputs": [
    {
     "data": {
      "text/plain": [
       "0      1\n",
       "1      1\n",
       "2      1\n",
       "3      1\n",
       "4      1\n",
       "      ..\n",
       "192    0\n",
       "193    0\n",
       "194    0\n",
       "195    0\n",
       "196    0\n",
       "Name:  Blood Component Available, Length: 197, dtype: int32"
      ]
     },
     "execution_count": 232,
     "metadata": {},
     "output_type": "execute_result"
    }
   ],
   "source": [
    "from sklearn.preprocessing import LabelEncoder\n",
    "le=LabelEncoder()\n",
    "df[' Blood Component Available']=le.fit_transform(TBT[' Blood Component Available'])\n",
    "df[' Blood Component Available']"
   ]
  },
  {
   "cell_type": "code",
   "execution_count": 233,
   "metadata": {},
   "outputs": [
    {
     "data": {
      "text/plain": [
       "0      1\n",
       "1      2\n",
       "2      2\n",
       "3      2\n",
       "4      2\n",
       "      ..\n",
       "192    1\n",
       "193    1\n",
       "194    2\n",
       "195    0\n",
       "196    1\n",
       "Name:  Type, Length: 197, dtype: int32"
      ]
     },
     "execution_count": 233,
     "metadata": {},
     "output_type": "execute_result"
    }
   ],
   "source": [
    "from sklearn.preprocessing import LabelEncoder\n",
    "le=LabelEncoder()\n",
    "df[' Type']=le.fit_transform(TBT[' Type'])\n",
    "df[' Type']"
   ]
  },
  {
   "cell_type": "code",
   "execution_count": 234,
   "metadata": {},
   "outputs": [
    {
     "data": {
      "text/plain": [
       "0       0\n",
       "1       0\n",
       "2       0\n",
       "3       0\n",
       "4       0\n",
       "       ..\n",
       "192    30\n",
       "193    30\n",
       "194    30\n",
       "195    30\n",
       "196    30\n",
       "Name:  District, Length: 197, dtype: int32"
      ]
     },
     "execution_count": 234,
     "metadata": {},
     "output_type": "execute_result"
    }
   ],
   "source": [
    "from sklearn.preprocessing import LabelEncoder\n",
    "le=LabelEncoder()\n",
    "df[' District']=le.fit_transform(TBT[' District'])\n",
    "df[' District']"
   ]
  },
  {
   "cell_type": "code",
   "execution_count": 235,
   "metadata": {},
   "outputs": [
    {
     "data": {
      "text/html": [
       "<div>\n",
       "<style scoped>\n",
       "    .dataframe tbody tr th:only-of-type {\n",
       "        vertical-align: middle;\n",
       "    }\n",
       "\n",
       "    .dataframe tbody tr th {\n",
       "        vertical-align: top;\n",
       "    }\n",
       "\n",
       "    .dataframe thead th {\n",
       "        text-align: right;\n",
       "    }\n",
       "</style>\n",
       "<table border=\"1\" class=\"dataframe\">\n",
       "  <thead>\n",
       "    <tr style=\"text-align: right;\">\n",
       "      <th></th>\n",
       "      <th>Blood Component Available</th>\n",
       "      <th>Type</th>\n",
       "      <th>District</th>\n",
       "    </tr>\n",
       "  </thead>\n",
       "  <tbody>\n",
       "    <tr>\n",
       "      <th>0</th>\n",
       "      <td>1</td>\n",
       "      <td>1</td>\n",
       "      <td>0</td>\n",
       "    </tr>\n",
       "    <tr>\n",
       "      <th>1</th>\n",
       "      <td>1</td>\n",
       "      <td>2</td>\n",
       "      <td>0</td>\n",
       "    </tr>\n",
       "    <tr>\n",
       "      <th>2</th>\n",
       "      <td>1</td>\n",
       "      <td>2</td>\n",
       "      <td>0</td>\n",
       "    </tr>\n",
       "    <tr>\n",
       "      <th>3</th>\n",
       "      <td>1</td>\n",
       "      <td>2</td>\n",
       "      <td>0</td>\n",
       "    </tr>\n",
       "    <tr>\n",
       "      <th>4</th>\n",
       "      <td>1</td>\n",
       "      <td>2</td>\n",
       "      <td>0</td>\n",
       "    </tr>\n",
       "    <tr>\n",
       "      <th>...</th>\n",
       "      <td>...</td>\n",
       "      <td>...</td>\n",
       "      <td>...</td>\n",
       "    </tr>\n",
       "    <tr>\n",
       "      <th>192</th>\n",
       "      <td>0</td>\n",
       "      <td>1</td>\n",
       "      <td>30</td>\n",
       "    </tr>\n",
       "    <tr>\n",
       "      <th>193</th>\n",
       "      <td>0</td>\n",
       "      <td>1</td>\n",
       "      <td>30</td>\n",
       "    </tr>\n",
       "    <tr>\n",
       "      <th>194</th>\n",
       "      <td>0</td>\n",
       "      <td>2</td>\n",
       "      <td>30</td>\n",
       "    </tr>\n",
       "    <tr>\n",
       "      <th>195</th>\n",
       "      <td>0</td>\n",
       "      <td>0</td>\n",
       "      <td>30</td>\n",
       "    </tr>\n",
       "    <tr>\n",
       "      <th>196</th>\n",
       "      <td>0</td>\n",
       "      <td>1</td>\n",
       "      <td>30</td>\n",
       "    </tr>\n",
       "  </tbody>\n",
       "</table>\n",
       "<p>197 rows × 3 columns</p>\n",
       "</div>"
      ],
      "text/plain": [
       "      Blood Component Available   Type   District\n",
       "0                             1      1          0\n",
       "1                             1      2          0\n",
       "2                             1      2          0\n",
       "3                             1      2          0\n",
       "4                             1      2          0\n",
       "..                          ...    ...        ...\n",
       "192                           0      1         30\n",
       "193                           0      1         30\n",
       "194                           0      2         30\n",
       "195                           0      0         30\n",
       "196                           0      1         30\n",
       "\n",
       "[197 rows x 3 columns]"
      ]
     },
     "execution_count": 235,
     "metadata": {},
     "output_type": "execute_result"
    }
   ],
   "source": [
    "df"
   ]
  },
  {
   "cell_type": "code",
   "execution_count": 236,
   "metadata": {},
   "outputs": [
    {
     "data": {
      "text/html": [
       "<div>\n",
       "<style scoped>\n",
       "    .dataframe tbody tr th:only-of-type {\n",
       "        vertical-align: middle;\n",
       "    }\n",
       "\n",
       "    .dataframe tbody tr th {\n",
       "        vertical-align: top;\n",
       "    }\n",
       "\n",
       "    .dataframe thead th {\n",
       "        text-align: right;\n",
       "    }\n",
       "</style>\n",
       "<table border=\"1\" class=\"dataframe\">\n",
       "  <thead>\n",
       "    <tr style=\"text-align: right;\">\n",
       "      <th></th>\n",
       "      <th>State</th>\n",
       "      <th>District</th>\n",
       "      <th>Type</th>\n",
       "      <th>Blood Component Available</th>\n",
       "      <th>Year of Renewal</th>\n",
       "      <th>Renewal target</th>\n",
       "    </tr>\n",
       "  </thead>\n",
       "  <tbody>\n",
       "    <tr>\n",
       "      <th>3</th>\n",
       "      <td>Tamil Nadu</td>\n",
       "      <td>Chennai</td>\n",
       "      <td>Government</td>\n",
       "      <td>YES</td>\n",
       "      <td>2012.0</td>\n",
       "      <td>2021.0</td>\n",
       "    </tr>\n",
       "    <tr>\n",
       "      <th>7</th>\n",
       "      <td>Tamil Nadu</td>\n",
       "      <td>Chennai</td>\n",
       "      <td>Private</td>\n",
       "      <td>YES</td>\n",
       "      <td>2017.0</td>\n",
       "      <td>2021.0</td>\n",
       "    </tr>\n",
       "    <tr>\n",
       "      <th>8</th>\n",
       "      <td>Tamil Nadu</td>\n",
       "      <td>Chennai</td>\n",
       "      <td>Private</td>\n",
       "      <td>YES</td>\n",
       "      <td>2020.0</td>\n",
       "      <td>2021.0</td>\n",
       "    </tr>\n",
       "    <tr>\n",
       "      <th>9</th>\n",
       "      <td>Tamil Nadu</td>\n",
       "      <td>Chennai</td>\n",
       "      <td>Private</td>\n",
       "      <td>YES</td>\n",
       "      <td>2017.0</td>\n",
       "      <td>2021.0</td>\n",
       "    </tr>\n",
       "    <tr>\n",
       "      <th>10</th>\n",
       "      <td>Tamil Nadu</td>\n",
       "      <td>Chennai</td>\n",
       "      <td>Private</td>\n",
       "      <td>YES</td>\n",
       "      <td>2016.0</td>\n",
       "      <td>2021.0</td>\n",
       "    </tr>\n",
       "    <tr>\n",
       "      <th>...</th>\n",
       "      <td>...</td>\n",
       "      <td>...</td>\n",
       "      <td>...</td>\n",
       "      <td>...</td>\n",
       "      <td>...</td>\n",
       "      <td>...</td>\n",
       "    </tr>\n",
       "    <tr>\n",
       "      <th>283</th>\n",
       "      <td>Tamil Nadu</td>\n",
       "      <td>Virudhunagar</td>\n",
       "      <td>Government</td>\n",
       "      <td>NO</td>\n",
       "      <td>2016.0</td>\n",
       "      <td>2021.0</td>\n",
       "    </tr>\n",
       "    <tr>\n",
       "      <th>284</th>\n",
       "      <td>Tamil Nadu</td>\n",
       "      <td>Virudhunagar</td>\n",
       "      <td>Government</td>\n",
       "      <td>NO</td>\n",
       "      <td>2016.0</td>\n",
       "      <td>2021.0</td>\n",
       "    </tr>\n",
       "    <tr>\n",
       "      <th>285</th>\n",
       "      <td>Tamil Nadu</td>\n",
       "      <td>Virudhunagar</td>\n",
       "      <td>Private</td>\n",
       "      <td>NO</td>\n",
       "      <td>2014.0</td>\n",
       "      <td>2021.0</td>\n",
       "    </tr>\n",
       "    <tr>\n",
       "      <th>289</th>\n",
       "      <td>Tamil Nadu</td>\n",
       "      <td>Virudhunagar</td>\n",
       "      <td>Charity</td>\n",
       "      <td>NO</td>\n",
       "      <td>2016.0</td>\n",
       "      <td>2021.0</td>\n",
       "    </tr>\n",
       "    <tr>\n",
       "      <th>290</th>\n",
       "      <td>Tamil Nadu</td>\n",
       "      <td>Virudhunagar</td>\n",
       "      <td>Government</td>\n",
       "      <td>NO</td>\n",
       "      <td>2012.0</td>\n",
       "      <td>2021.0</td>\n",
       "    </tr>\n",
       "  </tbody>\n",
       "</table>\n",
       "<p>197 rows × 6 columns</p>\n",
       "</div>"
      ],
      "text/plain": [
       "          State      District        Type  Blood Component Available  \\\n",
       "3    Tamil Nadu       Chennai  Government                        YES   \n",
       "7    Tamil Nadu       Chennai     Private                        YES   \n",
       "8    Tamil Nadu       Chennai     Private                        YES   \n",
       "9    Tamil Nadu       Chennai     Private                        YES   \n",
       "10   Tamil Nadu       Chennai     Private                        YES   \n",
       "..          ...           ...         ...                        ...   \n",
       "283  Tamil Nadu  Virudhunagar  Government                         NO   \n",
       "284  Tamil Nadu  Virudhunagar  Government                         NO   \n",
       "285  Tamil Nadu  Virudhunagar     Private                         NO   \n",
       "289  Tamil Nadu  Virudhunagar     Charity                         NO   \n",
       "290  Tamil Nadu  Virudhunagar  Government                         NO   \n",
       "\n",
       "      Year of Renewal  Renewal target  \n",
       "3              2012.0          2021.0  \n",
       "7              2017.0          2021.0  \n",
       "8              2020.0          2021.0  \n",
       "9              2017.0          2021.0  \n",
       "10             2016.0          2021.0  \n",
       "..                ...             ...  \n",
       "283            2016.0          2021.0  \n",
       "284            2016.0          2021.0  \n",
       "285            2014.0          2021.0  \n",
       "289            2016.0          2021.0  \n",
       "290            2012.0          2021.0  \n",
       "\n",
       "[197 rows x 6 columns]"
      ]
     },
     "execution_count": 236,
     "metadata": {},
     "output_type": "execute_result"
    }
   ],
   "source": [
    "TBT"
   ]
  },
  {
   "cell_type": "code",
   "execution_count": 237,
   "metadata": {},
   "outputs": [
    {
     "data": {
      "text/html": [
       "<div>\n",
       "<style scoped>\n",
       "    .dataframe tbody tr th:only-of-type {\n",
       "        vertical-align: middle;\n",
       "    }\n",
       "\n",
       "    .dataframe tbody tr th {\n",
       "        vertical-align: top;\n",
       "    }\n",
       "\n",
       "    .dataframe thead th {\n",
       "        text-align: right;\n",
       "    }\n",
       "</style>\n",
       "<table border=\"1\" class=\"dataframe\">\n",
       "  <thead>\n",
       "    <tr style=\"text-align: right;\">\n",
       "      <th></th>\n",
       "      <th>State</th>\n",
       "      <th>District</th>\n",
       "      <th>Type</th>\n",
       "      <th>Blood Component Available</th>\n",
       "      <th>Year of Renewal</th>\n",
       "      <th>Renewal target</th>\n",
       "    </tr>\n",
       "  </thead>\n",
       "  <tbody>\n",
       "    <tr>\n",
       "      <th>0</th>\n",
       "      <td>Tamil Nadu</td>\n",
       "      <td>Chennai</td>\n",
       "      <td>Government</td>\n",
       "      <td>YES</td>\n",
       "      <td>2012.0</td>\n",
       "      <td>2021.0</td>\n",
       "    </tr>\n",
       "    <tr>\n",
       "      <th>1</th>\n",
       "      <td>Tamil Nadu</td>\n",
       "      <td>Chennai</td>\n",
       "      <td>Private</td>\n",
       "      <td>YES</td>\n",
       "      <td>2017.0</td>\n",
       "      <td>2021.0</td>\n",
       "    </tr>\n",
       "    <tr>\n",
       "      <th>2</th>\n",
       "      <td>Tamil Nadu</td>\n",
       "      <td>Chennai</td>\n",
       "      <td>Private</td>\n",
       "      <td>YES</td>\n",
       "      <td>2020.0</td>\n",
       "      <td>2021.0</td>\n",
       "    </tr>\n",
       "    <tr>\n",
       "      <th>3</th>\n",
       "      <td>Tamil Nadu</td>\n",
       "      <td>Chennai</td>\n",
       "      <td>Private</td>\n",
       "      <td>YES</td>\n",
       "      <td>2017.0</td>\n",
       "      <td>2021.0</td>\n",
       "    </tr>\n",
       "    <tr>\n",
       "      <th>4</th>\n",
       "      <td>Tamil Nadu</td>\n",
       "      <td>Chennai</td>\n",
       "      <td>Private</td>\n",
       "      <td>YES</td>\n",
       "      <td>2016.0</td>\n",
       "      <td>2021.0</td>\n",
       "    </tr>\n",
       "    <tr>\n",
       "      <th>...</th>\n",
       "      <td>...</td>\n",
       "      <td>...</td>\n",
       "      <td>...</td>\n",
       "      <td>...</td>\n",
       "      <td>...</td>\n",
       "      <td>...</td>\n",
       "    </tr>\n",
       "    <tr>\n",
       "      <th>192</th>\n",
       "      <td>Tamil Nadu</td>\n",
       "      <td>Virudhunagar</td>\n",
       "      <td>Government</td>\n",
       "      <td>NO</td>\n",
       "      <td>2016.0</td>\n",
       "      <td>2021.0</td>\n",
       "    </tr>\n",
       "    <tr>\n",
       "      <th>193</th>\n",
       "      <td>Tamil Nadu</td>\n",
       "      <td>Virudhunagar</td>\n",
       "      <td>Government</td>\n",
       "      <td>NO</td>\n",
       "      <td>2016.0</td>\n",
       "      <td>2021.0</td>\n",
       "    </tr>\n",
       "    <tr>\n",
       "      <th>194</th>\n",
       "      <td>Tamil Nadu</td>\n",
       "      <td>Virudhunagar</td>\n",
       "      <td>Private</td>\n",
       "      <td>NO</td>\n",
       "      <td>2014.0</td>\n",
       "      <td>2021.0</td>\n",
       "    </tr>\n",
       "    <tr>\n",
       "      <th>195</th>\n",
       "      <td>Tamil Nadu</td>\n",
       "      <td>Virudhunagar</td>\n",
       "      <td>Charity</td>\n",
       "      <td>NO</td>\n",
       "      <td>2016.0</td>\n",
       "      <td>2021.0</td>\n",
       "    </tr>\n",
       "    <tr>\n",
       "      <th>196</th>\n",
       "      <td>Tamil Nadu</td>\n",
       "      <td>Virudhunagar</td>\n",
       "      <td>Government</td>\n",
       "      <td>NO</td>\n",
       "      <td>2012.0</td>\n",
       "      <td>2021.0</td>\n",
       "    </tr>\n",
       "  </tbody>\n",
       "</table>\n",
       "<p>197 rows × 6 columns</p>\n",
       "</div>"
      ],
      "text/plain": [
       "          State      District        Type  Blood Component Available  \\\n",
       "0    Tamil Nadu       Chennai  Government                        YES   \n",
       "1    Tamil Nadu       Chennai     Private                        YES   \n",
       "2    Tamil Nadu       Chennai     Private                        YES   \n",
       "3    Tamil Nadu       Chennai     Private                        YES   \n",
       "4    Tamil Nadu       Chennai     Private                        YES   \n",
       "..          ...           ...         ...                        ...   \n",
       "192  Tamil Nadu  Virudhunagar  Government                         NO   \n",
       "193  Tamil Nadu  Virudhunagar  Government                         NO   \n",
       "194  Tamil Nadu  Virudhunagar     Private                         NO   \n",
       "195  Tamil Nadu  Virudhunagar     Charity                         NO   \n",
       "196  Tamil Nadu  Virudhunagar  Government                         NO   \n",
       "\n",
       "      Year of Renewal  Renewal target  \n",
       "0              2012.0          2021.0  \n",
       "1              2017.0          2021.0  \n",
       "2              2020.0          2021.0  \n",
       "3              2017.0          2021.0  \n",
       "4              2016.0          2021.0  \n",
       "..                ...             ...  \n",
       "192            2016.0          2021.0  \n",
       "193            2016.0          2021.0  \n",
       "194            2014.0          2021.0  \n",
       "195            2016.0          2021.0  \n",
       "196            2012.0          2021.0  \n",
       "\n",
       "[197 rows x 6 columns]"
      ]
     },
     "execution_count": 237,
     "metadata": {},
     "output_type": "execute_result"
    }
   ],
   "source": [
    "TBT.reset_index(drop=True, inplace=True)\n",
    "TBT"
   ]
  },
  {
   "cell_type": "code",
   "execution_count": 238,
   "metadata": {},
   "outputs": [],
   "source": [
    "ABT=pd.concat([TBT,df],axis=1)"
   ]
  },
  {
   "cell_type": "code",
   "execution_count": 239,
   "metadata": {},
   "outputs": [
    {
     "data": {
      "text/html": [
       "<div>\n",
       "<style scoped>\n",
       "    .dataframe tbody tr th:only-of-type {\n",
       "        vertical-align: middle;\n",
       "    }\n",
       "\n",
       "    .dataframe tbody tr th {\n",
       "        vertical-align: top;\n",
       "    }\n",
       "\n",
       "    .dataframe thead th {\n",
       "        text-align: right;\n",
       "    }\n",
       "</style>\n",
       "<table border=\"1\" class=\"dataframe\">\n",
       "  <thead>\n",
       "    <tr style=\"text-align: right;\">\n",
       "      <th></th>\n",
       "      <th>State</th>\n",
       "      <th>District</th>\n",
       "      <th>Type</th>\n",
       "      <th>Blood Component Available</th>\n",
       "      <th>Year of Renewal</th>\n",
       "      <th>Renewal target</th>\n",
       "      <th>Blood Component Available</th>\n",
       "      <th>Type</th>\n",
       "      <th>District</th>\n",
       "    </tr>\n",
       "  </thead>\n",
       "  <tbody>\n",
       "    <tr>\n",
       "      <th>0</th>\n",
       "      <td>Tamil Nadu</td>\n",
       "      <td>Chennai</td>\n",
       "      <td>Government</td>\n",
       "      <td>YES</td>\n",
       "      <td>2012.0</td>\n",
       "      <td>2021.0</td>\n",
       "      <td>1</td>\n",
       "      <td>1</td>\n",
       "      <td>0</td>\n",
       "    </tr>\n",
       "    <tr>\n",
       "      <th>1</th>\n",
       "      <td>Tamil Nadu</td>\n",
       "      <td>Chennai</td>\n",
       "      <td>Private</td>\n",
       "      <td>YES</td>\n",
       "      <td>2017.0</td>\n",
       "      <td>2021.0</td>\n",
       "      <td>1</td>\n",
       "      <td>2</td>\n",
       "      <td>0</td>\n",
       "    </tr>\n",
       "    <tr>\n",
       "      <th>2</th>\n",
       "      <td>Tamil Nadu</td>\n",
       "      <td>Chennai</td>\n",
       "      <td>Private</td>\n",
       "      <td>YES</td>\n",
       "      <td>2020.0</td>\n",
       "      <td>2021.0</td>\n",
       "      <td>1</td>\n",
       "      <td>2</td>\n",
       "      <td>0</td>\n",
       "    </tr>\n",
       "    <tr>\n",
       "      <th>3</th>\n",
       "      <td>Tamil Nadu</td>\n",
       "      <td>Chennai</td>\n",
       "      <td>Private</td>\n",
       "      <td>YES</td>\n",
       "      <td>2017.0</td>\n",
       "      <td>2021.0</td>\n",
       "      <td>1</td>\n",
       "      <td>2</td>\n",
       "      <td>0</td>\n",
       "    </tr>\n",
       "    <tr>\n",
       "      <th>4</th>\n",
       "      <td>Tamil Nadu</td>\n",
       "      <td>Chennai</td>\n",
       "      <td>Private</td>\n",
       "      <td>YES</td>\n",
       "      <td>2016.0</td>\n",
       "      <td>2021.0</td>\n",
       "      <td>1</td>\n",
       "      <td>2</td>\n",
       "      <td>0</td>\n",
       "    </tr>\n",
       "    <tr>\n",
       "      <th>...</th>\n",
       "      <td>...</td>\n",
       "      <td>...</td>\n",
       "      <td>...</td>\n",
       "      <td>...</td>\n",
       "      <td>...</td>\n",
       "      <td>...</td>\n",
       "      <td>...</td>\n",
       "      <td>...</td>\n",
       "      <td>...</td>\n",
       "    </tr>\n",
       "    <tr>\n",
       "      <th>192</th>\n",
       "      <td>Tamil Nadu</td>\n",
       "      <td>Virudhunagar</td>\n",
       "      <td>Government</td>\n",
       "      <td>NO</td>\n",
       "      <td>2016.0</td>\n",
       "      <td>2021.0</td>\n",
       "      <td>0</td>\n",
       "      <td>1</td>\n",
       "      <td>30</td>\n",
       "    </tr>\n",
       "    <tr>\n",
       "      <th>193</th>\n",
       "      <td>Tamil Nadu</td>\n",
       "      <td>Virudhunagar</td>\n",
       "      <td>Government</td>\n",
       "      <td>NO</td>\n",
       "      <td>2016.0</td>\n",
       "      <td>2021.0</td>\n",
       "      <td>0</td>\n",
       "      <td>1</td>\n",
       "      <td>30</td>\n",
       "    </tr>\n",
       "    <tr>\n",
       "      <th>194</th>\n",
       "      <td>Tamil Nadu</td>\n",
       "      <td>Virudhunagar</td>\n",
       "      <td>Private</td>\n",
       "      <td>NO</td>\n",
       "      <td>2014.0</td>\n",
       "      <td>2021.0</td>\n",
       "      <td>0</td>\n",
       "      <td>2</td>\n",
       "      <td>30</td>\n",
       "    </tr>\n",
       "    <tr>\n",
       "      <th>195</th>\n",
       "      <td>Tamil Nadu</td>\n",
       "      <td>Virudhunagar</td>\n",
       "      <td>Charity</td>\n",
       "      <td>NO</td>\n",
       "      <td>2016.0</td>\n",
       "      <td>2021.0</td>\n",
       "      <td>0</td>\n",
       "      <td>0</td>\n",
       "      <td>30</td>\n",
       "    </tr>\n",
       "    <tr>\n",
       "      <th>196</th>\n",
       "      <td>Tamil Nadu</td>\n",
       "      <td>Virudhunagar</td>\n",
       "      <td>Government</td>\n",
       "      <td>NO</td>\n",
       "      <td>2012.0</td>\n",
       "      <td>2021.0</td>\n",
       "      <td>0</td>\n",
       "      <td>1</td>\n",
       "      <td>30</td>\n",
       "    </tr>\n",
       "  </tbody>\n",
       "</table>\n",
       "<p>197 rows × 9 columns</p>\n",
       "</div>"
      ],
      "text/plain": [
       "          State      District        Type   Blood Component Available  \\\n",
       "0    Tamil Nadu       Chennai  Government                         YES   \n",
       "1    Tamil Nadu       Chennai     Private                         YES   \n",
       "2    Tamil Nadu       Chennai     Private                         YES   \n",
       "3    Tamil Nadu       Chennai     Private                         YES   \n",
       "4    Tamil Nadu       Chennai     Private                         YES   \n",
       "..          ...           ...         ...                         ...   \n",
       "192  Tamil Nadu  Virudhunagar  Government                          NO   \n",
       "193  Tamil Nadu  Virudhunagar  Government                          NO   \n",
       "194  Tamil Nadu  Virudhunagar     Private                          NO   \n",
       "195  Tamil Nadu  Virudhunagar     Charity                          NO   \n",
       "196  Tamil Nadu  Virudhunagar  Government                          NO   \n",
       "\n",
       "      Year of Renewal  Renewal target   Blood Component Available   Type  \\\n",
       "0              2012.0          2021.0                           1      1   \n",
       "1              2017.0          2021.0                           1      2   \n",
       "2              2020.0          2021.0                           1      2   \n",
       "3              2017.0          2021.0                           1      2   \n",
       "4              2016.0          2021.0                           1      2   \n",
       "..                ...             ...                         ...    ...   \n",
       "192            2016.0          2021.0                           0      1   \n",
       "193            2016.0          2021.0                           0      1   \n",
       "194            2014.0          2021.0                           0      2   \n",
       "195            2016.0          2021.0                           0      0   \n",
       "196            2012.0          2021.0                           0      1   \n",
       "\n",
       "      District  \n",
       "0            0  \n",
       "1            0  \n",
       "2            0  \n",
       "3            0  \n",
       "4            0  \n",
       "..         ...  \n",
       "192         30  \n",
       "193         30  \n",
       "194         30  \n",
       "195         30  \n",
       "196         30  \n",
       "\n",
       "[197 rows x 9 columns]"
      ]
     },
     "execution_count": 239,
     "metadata": {},
     "output_type": "execute_result"
    }
   ],
   "source": [
    "ABT"
   ]
  },
  {
   "cell_type": "code",
   "execution_count": 240,
   "metadata": {},
   "outputs": [
    {
     "data": {
      "text/plain": [
       "Index([' State', ' District', ' Type', ' Blood Component Available',\n",
       "       ' Year of Renewal', 'Renewal target', ' Blood Component Available',\n",
       "       ' Type', ' District'],\n",
       "      dtype='object')"
      ]
     },
     "execution_count": 240,
     "metadata": {},
     "output_type": "execute_result"
    }
   ],
   "source": [
    "ABT.columns"
   ]
  },
  {
   "cell_type": "code",
   "execution_count": 241,
   "metadata": {
    "scrolled": true
   },
   "outputs": [
    {
     "data": {
      "text/html": [
       "<div>\n",
       "<style scoped>\n",
       "    .dataframe tbody tr th:only-of-type {\n",
       "        vertical-align: middle;\n",
       "    }\n",
       "\n",
       "    .dataframe tbody tr th {\n",
       "        vertical-align: top;\n",
       "    }\n",
       "\n",
       "    .dataframe thead th {\n",
       "        text-align: right;\n",
       "    }\n",
       "</style>\n",
       "<table border=\"1\" class=\"dataframe\">\n",
       "  <thead>\n",
       "    <tr style=\"text-align: right;\">\n",
       "      <th></th>\n",
       "      <th>State</th>\n",
       "      <th>Year of Renewal</th>\n",
       "      <th>Renewal target</th>\n",
       "      <th>Type</th>\n",
       "      <th>District</th>\n",
       "    </tr>\n",
       "  </thead>\n",
       "  <tbody>\n",
       "    <tr>\n",
       "      <th>0</th>\n",
       "      <td>Tamil Nadu</td>\n",
       "      <td>2012.0</td>\n",
       "      <td>2021.0</td>\n",
       "      <td>1</td>\n",
       "      <td>0</td>\n",
       "    </tr>\n",
       "    <tr>\n",
       "      <th>1</th>\n",
       "      <td>Tamil Nadu</td>\n",
       "      <td>2017.0</td>\n",
       "      <td>2021.0</td>\n",
       "      <td>2</td>\n",
       "      <td>0</td>\n",
       "    </tr>\n",
       "    <tr>\n",
       "      <th>2</th>\n",
       "      <td>Tamil Nadu</td>\n",
       "      <td>2020.0</td>\n",
       "      <td>2021.0</td>\n",
       "      <td>2</td>\n",
       "      <td>0</td>\n",
       "    </tr>\n",
       "    <tr>\n",
       "      <th>3</th>\n",
       "      <td>Tamil Nadu</td>\n",
       "      <td>2017.0</td>\n",
       "      <td>2021.0</td>\n",
       "      <td>2</td>\n",
       "      <td>0</td>\n",
       "    </tr>\n",
       "    <tr>\n",
       "      <th>4</th>\n",
       "      <td>Tamil Nadu</td>\n",
       "      <td>2016.0</td>\n",
       "      <td>2021.0</td>\n",
       "      <td>2</td>\n",
       "      <td>0</td>\n",
       "    </tr>\n",
       "    <tr>\n",
       "      <th>...</th>\n",
       "      <td>...</td>\n",
       "      <td>...</td>\n",
       "      <td>...</td>\n",
       "      <td>...</td>\n",
       "      <td>...</td>\n",
       "    </tr>\n",
       "    <tr>\n",
       "      <th>192</th>\n",
       "      <td>Tamil Nadu</td>\n",
       "      <td>2016.0</td>\n",
       "      <td>2021.0</td>\n",
       "      <td>1</td>\n",
       "      <td>30</td>\n",
       "    </tr>\n",
       "    <tr>\n",
       "      <th>193</th>\n",
       "      <td>Tamil Nadu</td>\n",
       "      <td>2016.0</td>\n",
       "      <td>2021.0</td>\n",
       "      <td>1</td>\n",
       "      <td>30</td>\n",
       "    </tr>\n",
       "    <tr>\n",
       "      <th>194</th>\n",
       "      <td>Tamil Nadu</td>\n",
       "      <td>2014.0</td>\n",
       "      <td>2021.0</td>\n",
       "      <td>2</td>\n",
       "      <td>30</td>\n",
       "    </tr>\n",
       "    <tr>\n",
       "      <th>195</th>\n",
       "      <td>Tamil Nadu</td>\n",
       "      <td>2016.0</td>\n",
       "      <td>2021.0</td>\n",
       "      <td>0</td>\n",
       "      <td>30</td>\n",
       "    </tr>\n",
       "    <tr>\n",
       "      <th>196</th>\n",
       "      <td>Tamil Nadu</td>\n",
       "      <td>2012.0</td>\n",
       "      <td>2021.0</td>\n",
       "      <td>1</td>\n",
       "      <td>30</td>\n",
       "    </tr>\n",
       "  </tbody>\n",
       "</table>\n",
       "<p>197 rows × 5 columns</p>\n",
       "</div>"
      ],
      "text/plain": [
       "          State   Year of Renewal  Renewal target   Type   District\n",
       "0    Tamil Nadu            2012.0          2021.0      1          0\n",
       "1    Tamil Nadu            2017.0          2021.0      2          0\n",
       "2    Tamil Nadu            2020.0          2021.0      2          0\n",
       "3    Tamil Nadu            2017.0          2021.0      2          0\n",
       "4    Tamil Nadu            2016.0          2021.0      2          0\n",
       "..          ...               ...             ...    ...        ...\n",
       "192  Tamil Nadu            2016.0          2021.0      1         30\n",
       "193  Tamil Nadu            2016.0          2021.0      1         30\n",
       "194  Tamil Nadu            2014.0          2021.0      2         30\n",
       "195  Tamil Nadu            2016.0          2021.0      0         30\n",
       "196  Tamil Nadu            2012.0          2021.0      1         30\n",
       "\n",
       "[197 rows x 5 columns]"
      ]
     },
     "execution_count": 241,
     "metadata": {},
     "output_type": "execute_result"
    }
   ],
   "source": [
    "column_numbers = [x for x in range(ABT.shape[1])]  \n",
    "\n",
    "column_numbers .remove(1) \n",
    "column_numbers.remove(2)\n",
    "column_numbers.remove(3)\n",
    "column_numbers.remove(6)\n",
    "ABT=ABT.iloc[:, column_numbers] \n",
    "ABT"
   ]
  },
  {
   "cell_type": "code",
   "execution_count": 242,
   "metadata": {},
   "outputs": [],
   "source": [
    " \n",
    "#column_numbers = [x for x in range(TBT.shape[1])]  \n",
    "\n",
    "\n",
    "#column_numbers .remove(40) \n",
    "#column_numbers.remove(41)\n",
    "\n",
    "#TBT.iloc[:, column_numbers]"
   ]
  },
  {
   "cell_type": "code",
   "execution_count": 243,
   "metadata": {},
   "outputs": [
    {
     "name": "stderr",
     "output_type": "stream",
     "text": [
      "C:\\Users\\User\\anaconda3\\lib\\site-packages\\pandas\\core\\frame.py:3678: SettingWithCopyWarning: \n",
      "A value is trying to be set on a copy of a slice from a DataFrame.\n",
      "Try using .loc[row_indexer,col_indexer] = value instead\n",
      "\n",
      "See the caveats in the documentation: https://pandas.pydata.org/pandas-docs/stable/user_guide/indexing.html#returning-a-view-versus-a-copy\n",
      "  self[col] = igetitem(value, i)\n"
     ]
    },
    {
     "data": {
      "text/html": [
       "<div>\n",
       "<style scoped>\n",
       "    .dataframe tbody tr th:only-of-type {\n",
       "        vertical-align: middle;\n",
       "    }\n",
       "\n",
       "    .dataframe tbody tr th {\n",
       "        vertical-align: top;\n",
       "    }\n",
       "\n",
       "    .dataframe thead th {\n",
       "        text-align: right;\n",
       "    }\n",
       "</style>\n",
       "<table border=\"1\" class=\"dataframe\">\n",
       "  <thead>\n",
       "    <tr style=\"text-align: right;\">\n",
       "      <th></th>\n",
       "      <th>State</th>\n",
       "      <th>Year of Renewal</th>\n",
       "      <th>Renewal target</th>\n",
       "      <th>Type</th>\n",
       "      <th>District</th>\n",
       "    </tr>\n",
       "  </thead>\n",
       "  <tbody>\n",
       "    <tr>\n",
       "      <th>0</th>\n",
       "      <td>Tamil Nadu</td>\n",
       "      <td>0.500000</td>\n",
       "      <td>1.0</td>\n",
       "      <td>1</td>\n",
       "      <td>0</td>\n",
       "    </tr>\n",
       "    <tr>\n",
       "      <th>1</th>\n",
       "      <td>Tamil Nadu</td>\n",
       "      <td>0.777778</td>\n",
       "      <td>1.0</td>\n",
       "      <td>2</td>\n",
       "      <td>0</td>\n",
       "    </tr>\n",
       "    <tr>\n",
       "      <th>2</th>\n",
       "      <td>Tamil Nadu</td>\n",
       "      <td>0.944444</td>\n",
       "      <td>1.0</td>\n",
       "      <td>2</td>\n",
       "      <td>0</td>\n",
       "    </tr>\n",
       "    <tr>\n",
       "      <th>3</th>\n",
       "      <td>Tamil Nadu</td>\n",
       "      <td>0.777778</td>\n",
       "      <td>1.0</td>\n",
       "      <td>2</td>\n",
       "      <td>0</td>\n",
       "    </tr>\n",
       "    <tr>\n",
       "      <th>4</th>\n",
       "      <td>Tamil Nadu</td>\n",
       "      <td>0.722222</td>\n",
       "      <td>1.0</td>\n",
       "      <td>2</td>\n",
       "      <td>0</td>\n",
       "    </tr>\n",
       "    <tr>\n",
       "      <th>...</th>\n",
       "      <td>...</td>\n",
       "      <td>...</td>\n",
       "      <td>...</td>\n",
       "      <td>...</td>\n",
       "      <td>...</td>\n",
       "    </tr>\n",
       "    <tr>\n",
       "      <th>192</th>\n",
       "      <td>Tamil Nadu</td>\n",
       "      <td>0.722222</td>\n",
       "      <td>1.0</td>\n",
       "      <td>1</td>\n",
       "      <td>30</td>\n",
       "    </tr>\n",
       "    <tr>\n",
       "      <th>193</th>\n",
       "      <td>Tamil Nadu</td>\n",
       "      <td>0.722222</td>\n",
       "      <td>1.0</td>\n",
       "      <td>1</td>\n",
       "      <td>30</td>\n",
       "    </tr>\n",
       "    <tr>\n",
       "      <th>194</th>\n",
       "      <td>Tamil Nadu</td>\n",
       "      <td>0.611111</td>\n",
       "      <td>1.0</td>\n",
       "      <td>2</td>\n",
       "      <td>30</td>\n",
       "    </tr>\n",
       "    <tr>\n",
       "      <th>195</th>\n",
       "      <td>Tamil Nadu</td>\n",
       "      <td>0.722222</td>\n",
       "      <td>1.0</td>\n",
       "      <td>0</td>\n",
       "      <td>30</td>\n",
       "    </tr>\n",
       "    <tr>\n",
       "      <th>196</th>\n",
       "      <td>Tamil Nadu</td>\n",
       "      <td>0.500000</td>\n",
       "      <td>1.0</td>\n",
       "      <td>1</td>\n",
       "      <td>30</td>\n",
       "    </tr>\n",
       "  </tbody>\n",
       "</table>\n",
       "<p>197 rows × 5 columns</p>\n",
       "</div>"
      ],
      "text/plain": [
       "          State   Year of Renewal  Renewal target   Type   District\n",
       "0    Tamil Nadu          0.500000             1.0      1          0\n",
       "1    Tamil Nadu          0.777778             1.0      2          0\n",
       "2    Tamil Nadu          0.944444             1.0      2          0\n",
       "3    Tamil Nadu          0.777778             1.0      2          0\n",
       "4    Tamil Nadu          0.722222             1.0      2          0\n",
       "..          ...               ...             ...    ...        ...\n",
       "192  Tamil Nadu          0.722222             1.0      1         30\n",
       "193  Tamil Nadu          0.722222             1.0      1         30\n",
       "194  Tamil Nadu          0.611111             1.0      2         30\n",
       "195  Tamil Nadu          0.722222             1.0      0         30\n",
       "196  Tamil Nadu          0.500000             1.0      1         30\n",
       "\n",
       "[197 rows x 5 columns]"
      ]
     },
     "execution_count": 243,
     "metadata": {},
     "output_type": "execute_result"
    }
   ],
   "source": [
    "from sklearn.preprocessing import MinMaxScaler\n",
    "cols_to_scale  = [' Year of Renewal','Renewal target']\n",
    "min_max_scaler = MinMaxScaler()\n",
    "ABT[cols_to_scale] = min_max_scaler.fit_transform(ABT[cols_to_scale])\n",
    "ABT"
   ]
  },
  {
   "cell_type": "code",
   "execution_count": 244,
   "metadata": {},
   "outputs": [],
   "source": [
    "numer = ABT.select_dtypes(exclude='object')\n"
   ]
  },
  {
   "cell_type": "code",
   "execution_count": 245,
   "metadata": {},
   "outputs": [
    {
     "data": {
      "text/html": [
       "<div>\n",
       "<style scoped>\n",
       "    .dataframe tbody tr th:only-of-type {\n",
       "        vertical-align: middle;\n",
       "    }\n",
       "\n",
       "    .dataframe tbody tr th {\n",
       "        vertical-align: top;\n",
       "    }\n",
       "\n",
       "    .dataframe thead th {\n",
       "        text-align: right;\n",
       "    }\n",
       "</style>\n",
       "<table border=\"1\" class=\"dataframe\">\n",
       "  <thead>\n",
       "    <tr style=\"text-align: right;\">\n",
       "      <th></th>\n",
       "      <th>Year of Renewal</th>\n",
       "      <th>Renewal target</th>\n",
       "      <th>Type</th>\n",
       "      <th>District</th>\n",
       "    </tr>\n",
       "  </thead>\n",
       "  <tbody>\n",
       "    <tr>\n",
       "      <th>0</th>\n",
       "      <td>0.500000</td>\n",
       "      <td>1.0</td>\n",
       "      <td>1</td>\n",
       "      <td>0</td>\n",
       "    </tr>\n",
       "    <tr>\n",
       "      <th>1</th>\n",
       "      <td>0.777778</td>\n",
       "      <td>1.0</td>\n",
       "      <td>2</td>\n",
       "      <td>0</td>\n",
       "    </tr>\n",
       "    <tr>\n",
       "      <th>2</th>\n",
       "      <td>0.944444</td>\n",
       "      <td>1.0</td>\n",
       "      <td>2</td>\n",
       "      <td>0</td>\n",
       "    </tr>\n",
       "    <tr>\n",
       "      <th>3</th>\n",
       "      <td>0.777778</td>\n",
       "      <td>1.0</td>\n",
       "      <td>2</td>\n",
       "      <td>0</td>\n",
       "    </tr>\n",
       "    <tr>\n",
       "      <th>4</th>\n",
       "      <td>0.722222</td>\n",
       "      <td>1.0</td>\n",
       "      <td>2</td>\n",
       "      <td>0</td>\n",
       "    </tr>\n",
       "    <tr>\n",
       "      <th>...</th>\n",
       "      <td>...</td>\n",
       "      <td>...</td>\n",
       "      <td>...</td>\n",
       "      <td>...</td>\n",
       "    </tr>\n",
       "    <tr>\n",
       "      <th>192</th>\n",
       "      <td>0.722222</td>\n",
       "      <td>1.0</td>\n",
       "      <td>1</td>\n",
       "      <td>30</td>\n",
       "    </tr>\n",
       "    <tr>\n",
       "      <th>193</th>\n",
       "      <td>0.722222</td>\n",
       "      <td>1.0</td>\n",
       "      <td>1</td>\n",
       "      <td>30</td>\n",
       "    </tr>\n",
       "    <tr>\n",
       "      <th>194</th>\n",
       "      <td>0.611111</td>\n",
       "      <td>1.0</td>\n",
       "      <td>2</td>\n",
       "      <td>30</td>\n",
       "    </tr>\n",
       "    <tr>\n",
       "      <th>195</th>\n",
       "      <td>0.722222</td>\n",
       "      <td>1.0</td>\n",
       "      <td>0</td>\n",
       "      <td>30</td>\n",
       "    </tr>\n",
       "    <tr>\n",
       "      <th>196</th>\n",
       "      <td>0.500000</td>\n",
       "      <td>1.0</td>\n",
       "      <td>1</td>\n",
       "      <td>30</td>\n",
       "    </tr>\n",
       "  </tbody>\n",
       "</table>\n",
       "<p>197 rows × 4 columns</p>\n",
       "</div>"
      ],
      "text/plain": [
       "      Year of Renewal  Renewal target   Type   District\n",
       "0            0.500000             1.0      1          0\n",
       "1            0.777778             1.0      2          0\n",
       "2            0.944444             1.0      2          0\n",
       "3            0.777778             1.0      2          0\n",
       "4            0.722222             1.0      2          0\n",
       "..                ...             ...    ...        ...\n",
       "192          0.722222             1.0      1         30\n",
       "193          0.722222             1.0      1         30\n",
       "194          0.611111             1.0      2         30\n",
       "195          0.722222             1.0      0         30\n",
       "196          0.500000             1.0      1         30\n",
       "\n",
       "[197 rows x 4 columns]"
      ]
     },
     "execution_count": 245,
     "metadata": {},
     "output_type": "execute_result"
    }
   ],
   "source": [
    "numer"
   ]
  },
  {
   "cell_type": "code",
   "execution_count": 246,
   "metadata": {},
   "outputs": [
    {
     "data": {
      "text/plain": [
       "<AxesSubplot:>"
      ]
     },
     "execution_count": 246,
     "metadata": {},
     "output_type": "execute_result"
    },
    {
     "data": {
      "image/png": "[encoded data removed]",
      "text/plain": [
       "<Figure size 720x576 with 2 Axes>"
      ]
     },
     "metadata": {
      "needs_background": "light"
     },
     "output_type": "display_data"
    }
   ],
   "source": [
    "fig, ax = plt.subplots(figsize = (10,8))\n",
    "sns.heatmap(ABT.corr(), annot = True, ax = ax,  cmap = 'coolwarm')"
   ]
  },
  {
   "cell_type": "code",
   "execution_count": 247,
   "metadata": {
    "scrolled": true
   },
   "outputs": [],
   "source": [
    "#myfig, myax = plt.subplots(nrows = 3, figsize=(8, 8))\n",
    "#for i in range(3):\n",
    " #   numer[numer[' District']==i]['Renewal done(2019 to 2021)'].plot.line(title = 'District'+str(i)+' productivity',ax = myax[i])\n",
    "\n",
    "#plt.show()\n"
   ]
  },
  {
   "cell_type": "raw",
   "metadata": {},
   "source": [
    "#SPLITTING DATAS\n"
   ]
  },
  {
   "cell_type": "code",
   "execution_count": 248,
   "metadata": {},
   "outputs": [],
   "source": [
    "x, y = numer.drop([' Year of Renewal'], axis=1), numer[' Year of Renewal']"
   ]
  },
  {
   "cell_type": "code",
   "execution_count": 249,
   "metadata": {},
   "outputs": [],
   "source": [
    "#x, y = TBT.drop(['Renewal done(2019 to 2021)'], axis=1), TBT['Renewal done(2019 to 2021)']"
   ]
  },
  {
   "cell_type": "code",
   "execution_count": 250,
   "metadata": {},
   "outputs": [
    {
     "name": "stdout",
     "output_type": "stream",
     "text": [
      "(137, 3)\n"
     ]
    }
   ],
   "source": [
    "x_train, x_test, y_train, y_test = train_test_split(x, y, test_size=0.3)\n",
    "print(x_train.shape)"
   ]
  },
  {
   "cell_type": "code",
   "execution_count": 251,
   "metadata": {},
   "outputs": [],
   "source": [
    "input_shape =4"
   ]
  },
  {
   "cell_type": "code",
   "execution_count": 252,
   "metadata": {},
   "outputs": [
    {
     "data": {
      "text/plain": [
       "[('Renewal target', True, 1), (' Type', True, 1), (' District', True, 1)]"
      ]
     },
     "execution_count": 252,
     "metadata": {},
     "output_type": "execute_result"
    }
   ],
   "source": [
    "from sklearn.linear_model import Ridge\n",
    "from sklearn.feature_selection import RFE\n",
    "# Creating an estimator\n",
    "ridge = Ridge()\n",
    "# Creating RFE object \n",
    "rfe = RFE(estimator = ridge, n_features_to_select = input_shape, verbose = 1)\n",
    "# Fitting the training data into our model\n",
    "rfe.fit(x_train, y_train)\n",
    "list(zip(x_train.columns,rfe.support_,rfe.ranking_))"
   ]
  },
  {
   "cell_type": "code",
   "execution_count": 253,
   "metadata": {},
   "outputs": [
    {
     "data": {
      "text/plain": [
       "Index(['Renewal target', ' Type', ' District'], dtype='object')"
      ]
     },
     "execution_count": 253,
     "metadata": {},
     "output_type": "execute_result"
    }
   ],
   "source": [
    "RFE_ridge_support_columns = x_train.columns[rfe.support_]\n",
    "RFE_ridge_support_columns"
   ]
  },
  {
   "cell_type": "code",
   "execution_count": 254,
   "metadata": {},
   "outputs": [
    {
     "data": {
      "text/html": [
       "<div>\n",
       "<style scoped>\n",
       "    .dataframe tbody tr th:only-of-type {\n",
       "        vertical-align: middle;\n",
       "    }\n",
       "\n",
       "    .dataframe tbody tr th {\n",
       "        vertical-align: top;\n",
       "    }\n",
       "\n",
       "    .dataframe thead th {\n",
       "        text-align: right;\n",
       "    }\n",
       "</style>\n",
       "<table border=\"1\" class=\"dataframe\">\n",
       "  <thead>\n",
       "    <tr style=\"text-align: right;\">\n",
       "      <th></th>\n",
       "      <th>Renewal target</th>\n",
       "      <th>Type</th>\n",
       "      <th>District</th>\n",
       "    </tr>\n",
       "  </thead>\n",
       "  <tbody>\n",
       "    <tr>\n",
       "      <th>96</th>\n",
       "      <td>1.0</td>\n",
       "      <td>2</td>\n",
       "      <td>9</td>\n",
       "    </tr>\n",
       "    <tr>\n",
       "      <th>5</th>\n",
       "      <td>1.0</td>\n",
       "      <td>2</td>\n",
       "      <td>0</td>\n",
       "    </tr>\n",
       "    <tr>\n",
       "      <th>116</th>\n",
       "      <td>1.0</td>\n",
       "      <td>0</td>\n",
       "      <td>13</td>\n",
       "    </tr>\n",
       "    <tr>\n",
       "      <th>35</th>\n",
       "      <td>1.0</td>\n",
       "      <td>0</td>\n",
       "      <td>1</td>\n",
       "    </tr>\n",
       "    <tr>\n",
       "      <th>179</th>\n",
       "      <td>1.0</td>\n",
       "      <td>1</td>\n",
       "      <td>28</td>\n",
       "    </tr>\n",
       "  </tbody>\n",
       "</table>\n",
       "</div>"
      ],
      "text/plain": [
       "     Renewal target   Type   District\n",
       "96              1.0      2          9\n",
       "5               1.0      2          0\n",
       "116             1.0      0         13\n",
       "35              1.0      0          1\n",
       "179             1.0      1         28"
      ]
     },
     "execution_count": 254,
     "metadata": {},
     "output_type": "execute_result"
    }
   ],
   "source": [
    "x_train = x_train[RFE_ridge_support_columns]\n",
    "x_train.head()\n",
    "# Preparing a new dataset containing only the RFE support columns data\n",
    "x_test = x_test[RFE_ridge_support_columns]\n",
    "x_test.head()"
   ]
  },
  {
   "cell_type": "code",
   "execution_count": 255,
   "metadata": {},
   "outputs": [],
   "source": [
    "from sklearn import metrics\n",
    "models_metrics = pd.DataFrame(columns = [ 'models','mae','mse', 'rmse' ,'mape', 'R2'])\n",
    "def evaluate_model(model,Y_actual,Y_Predicted, df1): \n",
    "    mape = np.mean(np.abs((Y_actual - Y_Predicted)/Y_actual))*100\n",
    "    mae=metrics.mean_absolute_error(Y_actual, Y_Predicted)\n",
    "    mse=metrics.mean_squared_error(Y_actual, Y_Predicted)\n",
    "    rmse=np.sqrt(metrics.mean_squared_error(Y_actual, Y_Predicted))\n",
    "    r2 = metrics.r2_score(Y_actual, Y_Predicted)\n",
    "    df2 = {'models':model,'mae':mae,'mse':mse, 'rmse':rmse, 'mape':mape, 'R2': r2}\n",
    "    df1 = df1.append(df2, ignore_index = True)\n",
    "    return df1"
   ]
  },
  {
   "cell_type": "code",
   "execution_count": 256,
   "metadata": {},
   "outputs": [],
   "source": [
    "from sklearn.linear_model import Lasso\n",
    "from sklearn.linear_model import LinearRegression\n",
    "from sklearn.tree import DecisionTreeRegressor\n",
    "from sklearn.ensemble import RandomForestRegressor\n",
    "from sklearn import linear_model\n",
    "from sklearn.svm import SVR\n",
    "from sklearn.neighbors import KNeighborsRegressor"
   ]
  },
  {
   "cell_type": "raw",
   "metadata": {},
   "source": [
    "#LINEAR REGRESSION\n"
   ]
  },
  {
   "cell_type": "code",
   "execution_count": 257,
   "metadata": {},
   "outputs": [],
   "source": [
    "# Building a model\n",
    "model_linear = LinearRegression()\n",
    "model_linear.fit(x_train,y_train)\n",
    "#Prediction using test set \n",
    "y_linear_pred = model_linear.predict(x_test)\n",
    "models_metrics = evaluate_model('Linear Regression', y_test, y_linear_pred, models_metrics)"
   ]
  },
  {
   "cell_type": "code",
   "execution_count": 258,
   "metadata": {
    "scrolled": true
   },
   "outputs": [
    {
     "data": {
      "image/png": "[encoded data removed]",
      "text/plain": [
       "<Figure size 432x288 with 1 Axes>"
      ]
     },
     "metadata": {
      "needs_background": "light"
     },
     "output_type": "display_data"
    }
   ],
   "source": [
    "plt.scatter(y_test, y_linear_pred)\n",
    "plt.plot([y_test.min(), y_test.max()], [y_test.min(), y_test.max()], 'k--', lw=4)\n",
    "plt.xlabel(\"Actual Productivity\")\n",
    "plt.ylabel(\"Predicted Productivity\")\n",
    "plt.title(\"Actual vs Predicted for Linear Regression Model\")\n",
    "plt.show()"
   ]
  },
  {
   "cell_type": "raw",
   "metadata": {},
   "source": [
    "#RIDGE REGRESSION\n"
   ]
  },
  {
   "cell_type": "code",
   "execution_count": 259,
   "metadata": {},
   "outputs": [],
   "source": [
    "model_ridge = Ridge()\n",
    "model_ridge.fit(x_train,y_train)\n",
    "#Prediction using test set \n",
    "y_ridge_pred = model_ridge.predict(x_test)\n",
    "# Checking with metrics\n",
    "models_metrics = evaluate_model('Ridge Regression', y_test, y_ridge_pred, models_metrics)"
   ]
  },
  {
   "cell_type": "code",
   "execution_count": 260,
   "metadata": {},
   "outputs": [
    {
     "data": {
      "image/png": "[encoded data removed]",
      "text/plain": [
       "<Figure size 432x288 with 1 Axes>"
      ]
     },
     "metadata": {
      "needs_background": "light"
     },
     "output_type": "display_data"
    }
   ],
   "source": [
    "plt.scatter(y_test, y_ridge_pred)\n",
    "plt.plot([y_test.min(), y_test.max()], [y_test.min(), y_test.max()], 'k--', lw=4)\n",
    "plt.xlabel(\"Actual Productivity\")\n",
    "plt.ylabel(\"Predicted Productivity\")\n",
    "plt.title(\"Actual vs Predicted for Ridge Regression Model\")\n",
    "plt.show()"
   ]
  },
  {
   "cell_type": "code",
   "execution_count": 261,
   "metadata": {},
   "outputs": [
    {
     "data": {
      "text/html": [
       "<div>\n",
       "<style scoped>\n",
       "    .dataframe tbody tr th:only-of-type {\n",
       "        vertical-align: middle;\n",
       "    }\n",
       "\n",
       "    .dataframe tbody tr th {\n",
       "        vertical-align: top;\n",
       "    }\n",
       "\n",
       "    .dataframe thead th {\n",
       "        text-align: right;\n",
       "    }\n",
       "</style>\n",
       "<table border=\"1\" class=\"dataframe\">\n",
       "  <thead>\n",
       "    <tr style=\"text-align: right;\">\n",
       "      <th></th>\n",
       "      <th>models</th>\n",
       "      <th>mae</th>\n",
       "      <th>mse</th>\n",
       "      <th>rmse</th>\n",
       "      <th>mape</th>\n",
       "      <th>R2</th>\n",
       "    </tr>\n",
       "  </thead>\n",
       "  <tbody>\n",
       "    <tr>\n",
       "      <th>0</th>\n",
       "      <td>Linear Regression</td>\n",
       "      <td>0.128629</td>\n",
       "      <td>0.026078</td>\n",
       "      <td>0.161487</td>\n",
       "      <td>23.599696</td>\n",
       "      <td>0.279621</td>\n",
       "    </tr>\n",
       "    <tr>\n",
       "      <th>1</th>\n",
       "      <td>Ridge Regression</td>\n",
       "      <td>0.129176</td>\n",
       "      <td>0.026216</td>\n",
       "      <td>0.161915</td>\n",
       "      <td>23.774694</td>\n",
       "      <td>0.275793</td>\n",
       "    </tr>\n",
       "  </tbody>\n",
       "</table>\n",
       "</div>"
      ],
      "text/plain": [
       "              models       mae       mse      rmse       mape        R2\n",
       "0  Linear Regression  0.128629  0.026078  0.161487  23.599696  0.279621\n",
       "1   Ridge Regression  0.129176  0.026216  0.161915  23.774694  0.275793"
      ]
     },
     "execution_count": 261,
     "metadata": {},
     "output_type": "execute_result"
    }
   ],
   "source": [
    "models_metrics"
   ]
  },
  {
   "cell_type": "raw",
   "metadata": {},
   "source": [
    "#POLYNOMIAL REGRESSION\n"
   ]
  },
  {
   "cell_type": "code",
   "execution_count": 262,
   "metadata": {},
   "outputs": [],
   "source": [
    "from sklearn.preprocessing import PolynomialFeatures\n",
    "from sklearn.pipeline import Pipeline\n",
    "# help(PolynomialFeatures)\n",
    "# help(Pipeline)"
   ]
  },
  {
   "cell_type": "code",
   "execution_count": 263,
   "metadata": {},
   "outputs": [],
   "source": [
    "from sklearn.preprocessing import PolynomialFeatures\n",
    "from sklearn.pipeline import Pipeline\n",
    "# Doing a polynomial regression: Comparing linear, quadratic and cubic fits\n",
    "# Pipeline helps you associate two models or objects to be built sequentially with each other, \n",
    "# in this case, the objects are PolynomialFeatures() and LinearRegression()\n",
    "\n",
    "pipeline = Pipeline([('poly_features', PolynomialFeatures(degree=2)),\n",
    "                     ('model', LinearRegression())])\n",
    "pipeline.fit(x_train, y_train)\n",
    "y_pred_degree2 = pipeline.predict(x_test)\n",
    "models_metrics = evaluate_model('Polynomial Degree 2', y_test, y_pred_degree2, models_metrics)\n",
    "    \n",
    "pipeline = Pipeline([('poly_features', PolynomialFeatures(degree=3)),\n",
    "                     ('model', LinearRegression())])\n",
    "pipeline.fit(x_train, y_train)\n",
    "y_pred_degree3 = pipeline.predict(x_test)\n",
    "models_metrics = evaluate_model('Polynomial Degree 3', y_test, y_pred_degree3, models_metrics)\n",
    "\n",
    "pipeline = Pipeline([('poly_features', PolynomialFeatures(degree=4)),\n",
    "                     ('model', LinearRegression())])\n",
    "pipeline.fit(x_train, y_train)\n",
    "y_pred_degree4 = pipeline.predict(x_test)\n",
    "models_metrics = evaluate_model('Polynomial Degree 4', y_test, y_pred_degree4, models_metrics)"
   ]
  },
  {
   "cell_type": "code",
   "execution_count": 264,
   "metadata": {},
   "outputs": [
    {
     "data": {
      "image/png": "[encoded data removed]",
      "text/plain": [
       "<Figure size 432x288 with 1 Axes>"
      ]
     },
     "metadata": {
      "needs_background": "light"
     },
     "output_type": "display_data"
    }
   ],
   "source": [
    "plt.scatter(y_test, y_pred_degree3)\n",
    "plt.plot([y_test.min(), y_test.max()], [y_test.min(), y_test.max()], 'k--', lw=4)\n",
    "plt.xlabel(\"Actual Productivity\")\n",
    "plt.ylabel(\"Predicted Productivity\")\n",
    "plt.title(\"Actual vs Predicted for Polynomial Regression Model\")\n",
    "plt.show()\n"
   ]
  },
  {
   "cell_type": "raw",
   "metadata": {},
   "source": [
    "# SVR\n"
   ]
  },
  {
   "cell_type": "code",
   "execution_count": 265,
   "metadata": {},
   "outputs": [],
   "source": [
    "model_svr = SVR(C=25)\n",
    "model_svr.fit(x_train, y_train)\n",
    "y_svr_pred = model_svr.predict(x_test)\n",
    "# model_svr.score(x2_test, y2_test)\n",
    "models_metrics = evaluate_model('Support Vector Regression', y_test, y_svr_pred, models_metrics)"
   ]
  },
  {
   "cell_type": "code",
   "execution_count": 266,
   "metadata": {},
   "outputs": [
    {
     "data": {
      "image/png": "[encoded data removed]",
      "text/plain": [
       "<Figure size 432x288 with 1 Axes>"
      ]
     },
     "metadata": {
      "needs_background": "light"
     },
     "output_type": "display_data"
    }
   ],
   "source": [
    "plt.scatter(y_test, y_svr_pred)\n",
    "plt.plot([y_test.min(), y_test.max()], [y_test.min(), y_test.max()], 'k--', lw=4)\n",
    "plt.xlabel(\"Actual Productivity\")\n",
    "plt.ylabel(\"Predicted Productivity\")\n",
    "plt.title(\"Actual vs Predicted for SVR Regression Model\")\n",
    "plt.show()"
   ]
  },
  {
   "cell_type": "raw",
   "metadata": {},
   "source": [
    "# KN REGRESSION\n"
   ]
  },
  {
   "cell_type": "code",
   "execution_count": 267,
   "metadata": {},
   "outputs": [],
   "source": [
    "model_kn = KNeighborsRegressor()\n",
    "model_kn.fit(x_train, y_train)\n",
    "y_kn_pred = model_kn.predict(x_test)\n",
    "models_metrics = evaluate_model('KNeighbour Regression def', y_test, y_kn_pred, models_metrics)"
   ]
  },
  {
   "cell_type": "code",
   "execution_count": 268,
   "metadata": {},
   "outputs": [
    {
     "data": {
      "image/png": "[encoded data removed]",
      "text/plain": [
       "<Figure size 432x288 with 1 Axes>"
      ]
     },
     "metadata": {
      "needs_background": "light"
     },
     "output_type": "display_data"
    }
   ],
   "source": [
    "plt.scatter(y_test, y_kn_pred)\n",
    "plt.plot([y_test.min(), y_test.max()], [y_test.min(), y_test.max()], 'k--', lw=4)\n",
    "plt.xlabel(\"Actual Productivity\")\n",
    "plt.ylabel(\"Predicted Productivity\")\n",
    "plt.title(\"Actual vs Predicted for KNeighbors Regression Model\")\n",
    "plt.show()\n"
   ]
  },
  {
   "cell_type": "raw",
   "metadata": {},
   "source": [
    "# LASSO REGRESSION\n"
   ]
  },
  {
   "cell_type": "code",
   "execution_count": 269,
   "metadata": {},
   "outputs": [],
   "source": [
    "model_lasso = Lasso()\n",
    "model_lasso.fit(x_train,y_train)\n",
    "#Prediction using test set \n",
    "y_lasso_pred = model_lasso.predict(x_test)\n",
    "models_metrics = evaluate_model('Lasso Regression', y_test, y_lasso_pred, models_metrics)"
   ]
  },
  {
   "cell_type": "code",
   "execution_count": 270,
   "metadata": {},
   "outputs": [
    {
     "data": {
      "image/png": "[encoded data removed]",
      "text/plain": [
       "<Figure size 432x288 with 1 Axes>"
      ]
     },
     "metadata": {
      "needs_background": "light"
     },
     "output_type": "display_data"
    }
   ],
   "source": [
    "plt.scatter(y_test, y_lasso_pred)\n",
    "plt.plot([y_test.min(), y_test.max()], [y_test.min(), y_test.max()], 'k--', lw=4)\n",
    "plt.xlabel(\"Actual Productivity\")\n",
    "plt.ylabel(\"Predicted Productivity\")\n",
    "plt.title(\"Actual vs Predicted for Lasso Regression Model\")\n",
    "plt.show()"
   ]
  },
  {
   "cell_type": "raw",
   "metadata": {},
   "source": [
    "#POISSON REGRESSOR\n"
   ]
  },
  {
   "cell_type": "code",
   "execution_count": 271,
   "metadata": {
    "scrolled": true
   },
   "outputs": [
    {
     "data": {
      "text/html": [
       "<div>\n",
       "<style scoped>\n",
       "    .dataframe tbody tr th:only-of-type {\n",
       "        vertical-align: middle;\n",
       "    }\n",
       "\n",
       "    .dataframe tbody tr th {\n",
       "        vertical-align: top;\n",
       "    }\n",
       "\n",
       "    .dataframe thead th {\n",
       "        text-align: right;\n",
       "    }\n",
       "</style>\n",
       "<table border=\"1\" class=\"dataframe\">\n",
       "  <thead>\n",
       "    <tr style=\"text-align: right;\">\n",
       "      <th></th>\n",
       "      <th>models</th>\n",
       "      <th>mae</th>\n",
       "      <th>mse</th>\n",
       "      <th>rmse</th>\n",
       "      <th>mape</th>\n",
       "      <th>R2</th>\n",
       "    </tr>\n",
       "  </thead>\n",
       "  <tbody>\n",
       "    <tr>\n",
       "      <th>0</th>\n",
       "      <td>Linear Regression</td>\n",
       "      <td>0.128629</td>\n",
       "      <td>0.026078</td>\n",
       "      <td>0.161487</td>\n",
       "      <td>23.599696</td>\n",
       "      <td>0.279621</td>\n",
       "    </tr>\n",
       "    <tr>\n",
       "      <th>1</th>\n",
       "      <td>Ridge Regression</td>\n",
       "      <td>0.129176</td>\n",
       "      <td>0.026216</td>\n",
       "      <td>0.161915</td>\n",
       "      <td>23.774694</td>\n",
       "      <td>0.275793</td>\n",
       "    </tr>\n",
       "    <tr>\n",
       "      <th>2</th>\n",
       "      <td>Polynomial Degree 2</td>\n",
       "      <td>0.128100</td>\n",
       "      <td>0.024270</td>\n",
       "      <td>0.155788</td>\n",
       "      <td>22.811872</td>\n",
       "      <td>0.329569</td>\n",
       "    </tr>\n",
       "    <tr>\n",
       "      <th>3</th>\n",
       "      <td>Polynomial Degree 3</td>\n",
       "      <td>0.129457</td>\n",
       "      <td>0.024774</td>\n",
       "      <td>0.157398</td>\n",
       "      <td>23.602663</td>\n",
       "      <td>0.315640</td>\n",
       "    </tr>\n",
       "    <tr>\n",
       "      <th>4</th>\n",
       "      <td>Polynomial Degree 4</td>\n",
       "      <td>0.152682</td>\n",
       "      <td>0.042763</td>\n",
       "      <td>0.206792</td>\n",
       "      <td>28.932906</td>\n",
       "      <td>-0.181291</td>\n",
       "    </tr>\n",
       "    <tr>\n",
       "      <th>5</th>\n",
       "      <td>Support Vector Regression</td>\n",
       "      <td>0.127901</td>\n",
       "      <td>0.026037</td>\n",
       "      <td>0.161360</td>\n",
       "      <td>22.985381</td>\n",
       "      <td>0.280747</td>\n",
       "    </tr>\n",
       "    <tr>\n",
       "      <th>6</th>\n",
       "      <td>KNeighbour Regression def</td>\n",
       "      <td>0.142593</td>\n",
       "      <td>0.030601</td>\n",
       "      <td>0.174931</td>\n",
       "      <td>26.044935</td>\n",
       "      <td>0.154680</td>\n",
       "    </tr>\n",
       "    <tr>\n",
       "      <th>7</th>\n",
       "      <td>Lasso Regression</td>\n",
       "      <td>0.163517</td>\n",
       "      <td>0.036412</td>\n",
       "      <td>0.190819</td>\n",
       "      <td>31.232854</td>\n",
       "      <td>-0.005844</td>\n",
       "    </tr>\n",
       "    <tr>\n",
       "      <th>8</th>\n",
       "      <td>Poisson Regression</td>\n",
       "      <td>0.159966</td>\n",
       "      <td>0.036106</td>\n",
       "      <td>0.190017</td>\n",
       "      <td>30.413907</td>\n",
       "      <td>0.002592</td>\n",
       "    </tr>\n",
       "  </tbody>\n",
       "</table>\n",
       "</div>"
      ],
      "text/plain": [
       "                      models       mae       mse      rmse       mape  \\\n",
       "0          Linear Regression  0.128629  0.026078  0.161487  23.599696   \n",
       "1           Ridge Regression  0.129176  0.026216  0.161915  23.774694   \n",
       "2        Polynomial Degree 2  0.128100  0.024270  0.155788  22.811872   \n",
       "3        Polynomial Degree 3  0.129457  0.024774  0.157398  23.602663   \n",
       "4        Polynomial Degree 4  0.152682  0.042763  0.206792  28.932906   \n",
       "5  Support Vector Regression  0.127901  0.026037  0.161360  22.985381   \n",
       "6  KNeighbour Regression def  0.142593  0.030601  0.174931  26.044935   \n",
       "7           Lasso Regression  0.163517  0.036412  0.190819  31.232854   \n",
       "8         Poisson Regression  0.159966  0.036106  0.190017  30.413907   \n",
       "\n",
       "         R2  \n",
       "0  0.279621  \n",
       "1  0.275793  \n",
       "2  0.329569  \n",
       "3  0.315640  \n",
       "4 -0.181291  \n",
       "5  0.280747  \n",
       "6  0.154680  \n",
       "7 -0.005844  \n",
       "8  0.002592  "
      ]
     },
     "execution_count": 271,
     "metadata": {},
     "output_type": "execute_result"
    }
   ],
   "source": [
    "from sklearn.linear_model import PoissonRegressor\n",
    "pipeline_poisson = Pipeline([('model', PoissonRegressor())])\n",
    "pipeline_poisson.fit(x_train, y_train)\n",
    "y_pred_poisson = pipeline_poisson.predict(x_test)\n",
    "models_metrics = evaluate_model('Poisson Regression', y_test, y_pred_poisson, models_metrics)\n",
    "models_metrics"
   ]
  },
  {
   "cell_type": "code",
   "execution_count": 272,
   "metadata": {},
   "outputs": [
    {
     "data": {
      "image/png": "[encoded data removed]",
      "text/plain": [
       "<Figure size 432x288 with 1 Axes>"
      ]
     },
     "metadata": {
      "needs_background": "light"
     },
     "output_type": "display_data"
    }
   ],
   "source": [
    "plt.scatter(y_test, y_pred_poisson)\n",
    "plt.plot([y_test.min(), y_test.max()], [y_test.min(), y_test.max()], 'k--', lw=4)\n",
    "plt.xlabel(\"Actual Productivity\")\n",
    "plt.ylabel(\"Predicted Productivity\")\n",
    "plt.title(\"Actual vs Predicted for Poisson Regression Model\")\n",
    "plt.show()"
   ]
  },
  {
   "cell_type": "raw",
   "metadata": {},
   "source": [
    "# DECISION TREE REGRESSOR\n"
   ]
  },
  {
   "cell_type": "code",
   "execution_count": 273,
   "metadata": {},
   "outputs": [],
   "source": [
    "model_dt = DecisionTreeRegressor(random_state = 0)\n",
    "model_dt.fit(x_train,y_train)\n",
    "#Prediction using test set \n",
    "y_dt_pred = model_dt.predict(x_test)\n",
    "# Checking with metrics\n",
    "models_metrics = evaluate_model('Decision Tree Regression', y_test, y_dt_pred, models_metrics)"
   ]
  },
  {
   "cell_type": "code",
   "execution_count": 274,
   "metadata": {},
   "outputs": [
    {
     "data": {
      "image/png": "[encoded data removed]",
      "text/plain": [
       "<Figure size 432x288 with 1 Axes>"
      ]
     },
     "metadata": {
      "needs_background": "light"
     },
     "output_type": "display_data"
    }
   ],
   "source": [
    "plt.scatter(y_test, y_dt_pred)\n",
    "plt.plot([y_test.min(), y_test.max()], [y_test.min(), y_test.max()], 'k--', lw=4)\n",
    "plt.xlabel(\"Actual Productivity\")\n",
    "plt.ylabel(\"Predicted Productivity\")\n",
    "plt.title(\"Actual vs Predicted for Decision Tree Regression Model\")\n",
    "plt.show()\n"
   ]
  },
  {
   "cell_type": "raw",
   "metadata": {},
   "source": [
    "# RANDOM FOREST REGRESSOR\n"
   ]
  },
  {
   "cell_type": "code",
   "execution_count": 275,
   "metadata": {},
   "outputs": [],
   "source": [
    "model_rf = RandomForestRegressor(n_estimators = 100 ,  random_state = 10)\n",
    "model_rf.fit(x_train,y_train)\n",
    "#Prediction using test set \n",
    "y_rf_pred = model_rf.predict(x_test)\n",
    "# Checking with metrics\n",
    "models_metrics = evaluate_model('Random Forest Regression', y_test, y_rf_pred, models_metrics)"
   ]
  },
  {
   "cell_type": "code",
   "execution_count": 276,
   "metadata": {},
   "outputs": [
    {
     "data": {
      "image/png": "[encoded data removed]",
      "text/plain": [
       "<Figure size 432x288 with 1 Axes>"
      ]
     },
     "metadata": {
      "needs_background": "light"
     },
     "output_type": "display_data"
    }
   ],
   "source": [
    "plt.scatter(y_test, y_rf_pred)\n",
    "plt.plot([y_test.min(), y_test.max()], [y_test.min(), y_test.max()], 'k--', lw=4)\n",
    "plt.xlabel(\"Actual Productivity\")\n",
    "plt.ylabel(\"Predicted Productivity\")\n",
    "plt.title(\"Actual vs Predicted for Random Forest Regression Model\")\n",
    "plt.show()"
   ]
  },
  {
   "cell_type": "raw",
   "metadata": {},
   "source": [
    "# GRADIENT BOOST REGRESSOR\n"
   ]
  },
  {
   "cell_type": "code",
   "execution_count": 277,
   "metadata": {},
   "outputs": [],
   "source": [
    "from sklearn.ensemble import GradientBoostingRegressor\n",
    "model_gbr = GradientBoostingRegressor(alpha=0.9,learning_rate=0.05, max_depth=2, min_samples_leaf=5, min_samples_split=2, n_estimators=100, random_state=30)\n",
    "\n",
    "model_gbr.fit(x_train, y_train)\n",
    "y_gbr_pred = model_gbr.predict(x_test)\n",
    "models_metrics = evaluate_model('Gradient Boost', y_test, y_gbr_pred, models_metrics)"
   ]
  },
  {
   "cell_type": "code",
   "execution_count": 278,
   "metadata": {},
   "outputs": [
    {
     "data": {
      "image/png": "[encoded data removed]",
      "text/plain": [
       "<Figure size 432x288 with 1 Axes>"
      ]
     },
     "metadata": {
      "needs_background": "light"
     },
     "output_type": "display_data"
    }
   ],
   "source": [
    "plt.scatter(y_test, y_gbr_pred)\n",
    "plt.plot([y_test.min(), y_test.max()], [y_test.min(), y_test.max()], 'k--', lw=4)\n",
    "plt.xlabel(\"Actual Productivity\")\n",
    "plt.ylabel(\"Predicted Productivity\")\n",
    "plt.title(\"Actual vs Predicted for Gradient Boost Model\")\n",
    "plt.show()\n"
   ]
  },
  {
   "cell_type": "code",
   "execution_count": 279,
   "metadata": {},
   "outputs": [
    {
     "data": {
      "text/html": [
       "<div>\n",
       "<style scoped>\n",
       "    .dataframe tbody tr th:only-of-type {\n",
       "        vertical-align: middle;\n",
       "    }\n",
       "\n",
       "    .dataframe tbody tr th {\n",
       "        vertical-align: top;\n",
       "    }\n",
       "\n",
       "    .dataframe thead th {\n",
       "        text-align: right;\n",
       "    }\n",
       "</style>\n",
       "<table border=\"1\" class=\"dataframe\">\n",
       "  <thead>\n",
       "    <tr style=\"text-align: right;\">\n",
       "      <th></th>\n",
       "      <th>models</th>\n",
       "      <th>mae</th>\n",
       "      <th>mse</th>\n",
       "      <th>rmse</th>\n",
       "      <th>mape</th>\n",
       "      <th>R2</th>\n",
       "    </tr>\n",
       "  </thead>\n",
       "  <tbody>\n",
       "    <tr>\n",
       "      <th>0</th>\n",
       "      <td>Linear Regression</td>\n",
       "      <td>0.128629</td>\n",
       "      <td>0.026078</td>\n",
       "      <td>0.161487</td>\n",
       "      <td>23.599696</td>\n",
       "      <td>0.279621</td>\n",
       "    </tr>\n",
       "    <tr>\n",
       "      <th>1</th>\n",
       "      <td>Ridge Regression</td>\n",
       "      <td>0.129176</td>\n",
       "      <td>0.026216</td>\n",
       "      <td>0.161915</td>\n",
       "      <td>23.774694</td>\n",
       "      <td>0.275793</td>\n",
       "    </tr>\n",
       "    <tr>\n",
       "      <th>2</th>\n",
       "      <td>Polynomial Degree 2</td>\n",
       "      <td>0.128100</td>\n",
       "      <td>0.024270</td>\n",
       "      <td>0.155788</td>\n",
       "      <td>22.811872</td>\n",
       "      <td>0.329569</td>\n",
       "    </tr>\n",
       "    <tr>\n",
       "      <th>3</th>\n",
       "      <td>Polynomial Degree 3</td>\n",
       "      <td>0.129457</td>\n",
       "      <td>0.024774</td>\n",
       "      <td>0.157398</td>\n",
       "      <td>23.602663</td>\n",
       "      <td>0.315640</td>\n",
       "    </tr>\n",
       "    <tr>\n",
       "      <th>4</th>\n",
       "      <td>Polynomial Degree 4</td>\n",
       "      <td>0.152682</td>\n",
       "      <td>0.042763</td>\n",
       "      <td>0.206792</td>\n",
       "      <td>28.932906</td>\n",
       "      <td>-0.181291</td>\n",
       "    </tr>\n",
       "    <tr>\n",
       "      <th>5</th>\n",
       "      <td>Support Vector Regression</td>\n",
       "      <td>0.127901</td>\n",
       "      <td>0.026037</td>\n",
       "      <td>0.161360</td>\n",
       "      <td>22.985381</td>\n",
       "      <td>0.280747</td>\n",
       "    </tr>\n",
       "    <tr>\n",
       "      <th>6</th>\n",
       "      <td>KNeighbour Regression def</td>\n",
       "      <td>0.142593</td>\n",
       "      <td>0.030601</td>\n",
       "      <td>0.174931</td>\n",
       "      <td>26.044935</td>\n",
       "      <td>0.154680</td>\n",
       "    </tr>\n",
       "    <tr>\n",
       "      <th>7</th>\n",
       "      <td>Lasso Regression</td>\n",
       "      <td>0.163517</td>\n",
       "      <td>0.036412</td>\n",
       "      <td>0.190819</td>\n",
       "      <td>31.232854</td>\n",
       "      <td>-0.005844</td>\n",
       "    </tr>\n",
       "    <tr>\n",
       "      <th>8</th>\n",
       "      <td>Poisson Regression</td>\n",
       "      <td>0.159966</td>\n",
       "      <td>0.036106</td>\n",
       "      <td>0.190017</td>\n",
       "      <td>30.413907</td>\n",
       "      <td>0.002592</td>\n",
       "    </tr>\n",
       "    <tr>\n",
       "      <th>9</th>\n",
       "      <td>Decision Tree Regression</td>\n",
       "      <td>0.148223</td>\n",
       "      <td>0.039051</td>\n",
       "      <td>0.197613</td>\n",
       "      <td>28.958055</td>\n",
       "      <td>-0.078751</td>\n",
       "    </tr>\n",
       "    <tr>\n",
       "      <th>10</th>\n",
       "      <td>Random Forest Regression</td>\n",
       "      <td>0.129102</td>\n",
       "      <td>0.029102</td>\n",
       "      <td>0.170594</td>\n",
       "      <td>24.941923</td>\n",
       "      <td>0.196070</td>\n",
       "    </tr>\n",
       "    <tr>\n",
       "      <th>11</th>\n",
       "      <td>Gradient Boost</td>\n",
       "      <td>0.129982</td>\n",
       "      <td>0.025124</td>\n",
       "      <td>0.158507</td>\n",
       "      <td>24.256335</td>\n",
       "      <td>0.305962</td>\n",
       "    </tr>\n",
       "  </tbody>\n",
       "</table>\n",
       "</div>"
      ],
      "text/plain": [
       "                       models       mae       mse      rmse       mape  \\\n",
       "0           Linear Regression  0.128629  0.026078  0.161487  23.599696   \n",
       "1            Ridge Regression  0.129176  0.026216  0.161915  23.774694   \n",
       "2         Polynomial Degree 2  0.128100  0.024270  0.155788  22.811872   \n",
       "3         Polynomial Degree 3  0.129457  0.024774  0.157398  23.602663   \n",
       "4         Polynomial Degree 4  0.152682  0.042763  0.206792  28.932906   \n",
       "5   Support Vector Regression  0.127901  0.026037  0.161360  22.985381   \n",
       "6   KNeighbour Regression def  0.142593  0.030601  0.174931  26.044935   \n",
       "7            Lasso Regression  0.163517  0.036412  0.190819  31.232854   \n",
       "8          Poisson Regression  0.159966  0.036106  0.190017  30.413907   \n",
       "9    Decision Tree Regression  0.148223  0.039051  0.197613  28.958055   \n",
       "10   Random Forest Regression  0.129102  0.029102  0.170594  24.941923   \n",
       "11             Gradient Boost  0.129982  0.025124  0.158507  24.256335   \n",
       "\n",
       "          R2  \n",
       "0   0.279621  \n",
       "1   0.275793  \n",
       "2   0.329569  \n",
       "3   0.315640  \n",
       "4  -0.181291  \n",
       "5   0.280747  \n",
       "6   0.154680  \n",
       "7  -0.005844  \n",
       "8   0.002592  \n",
       "9  -0.078751  \n",
       "10  0.196070  \n",
       "11  0.305962  "
      ]
     },
     "execution_count": 279,
     "metadata": {},
     "output_type": "execute_result"
    }
   ],
   "source": [
    "models_metrics"
   ]
  },
  {
   "cell_type": "code",
   "execution_count": 280,
   "metadata": {},
   "outputs": [
    {
     "name": "stderr",
     "output_type": "stream",
     "text": [
      "<ipython-input-280-489ba2f21475>:1: SettingWithCopyWarning: \n",
      "A value is trying to be set on a copy of a slice from a DataFrame\n",
      "\n",
      "See the caveats in the documentation: https://pandas.pydata.org/pandas-docs/stable/user_guide/indexing.html#returning-a-view-versus-a-copy\n",
      "  models_metrics['models'][2] = 'Polynomial Regression'\n",
      "<ipython-input-280-489ba2f21475>:2: SettingWithCopyWarning: \n",
      "A value is trying to be set on a copy of a slice from a DataFrame\n",
      "\n",
      "See the caveats in the documentation: https://pandas.pydata.org/pandas-docs/stable/user_guide/indexing.html#returning-a-view-versus-a-copy\n",
      "  models_metrics['models'][3] = 'Polynomial Regression'\n",
      "<ipython-input-280-489ba2f21475>:3: SettingWithCopyWarning: \n",
      "A value is trying to be set on a copy of a slice from a DataFrame\n",
      "\n",
      "See the caveats in the documentation: https://pandas.pydata.org/pandas-docs/stable/user_guide/indexing.html#returning-a-view-versus-a-copy\n",
      "  models_metrics['models'][4] = 'Polynomial Regression'\n"
     ]
    }
   ],
   "source": [
    "models_metrics['models'][2] = 'Polynomial Regression'\n",
    "models_metrics['models'][3] = 'Polynomial Regression'\n",
    "models_metrics['models'][4] = 'Polynomial Regression'\n",
    "\n"
   ]
  },
  {
   "cell_type": "code",
   "execution_count": 281,
   "metadata": {
    "scrolled": true
   },
   "outputs": [
    {
     "data": {
      "text/html": [
       "<div>\n",
       "<style scoped>\n",
       "    .dataframe tbody tr th:only-of-type {\n",
       "        vertical-align: middle;\n",
       "    }\n",
       "\n",
       "    .dataframe tbody tr th {\n",
       "        vertical-align: top;\n",
       "    }\n",
       "\n",
       "    .dataframe thead th {\n",
       "        text-align: right;\n",
       "    }\n",
       "</style>\n",
       "<table border=\"1\" class=\"dataframe\">\n",
       "  <thead>\n",
       "    <tr style=\"text-align: right;\">\n",
       "      <th></th>\n",
       "      <th>models</th>\n",
       "      <th>mae</th>\n",
       "      <th>mse</th>\n",
       "      <th>rmse</th>\n",
       "      <th>mape</th>\n",
       "      <th>R2</th>\n",
       "    </tr>\n",
       "  </thead>\n",
       "  <tbody>\n",
       "    <tr>\n",
       "      <th>0</th>\n",
       "      <td>Linear Regression</td>\n",
       "      <td>0.128629</td>\n",
       "      <td>0.026078</td>\n",
       "      <td>0.161487</td>\n",
       "      <td>23.599696</td>\n",
       "      <td>0.279621</td>\n",
       "    </tr>\n",
       "    <tr>\n",
       "      <th>1</th>\n",
       "      <td>Ridge Regression</td>\n",
       "      <td>0.129176</td>\n",
       "      <td>0.026216</td>\n",
       "      <td>0.161915</td>\n",
       "      <td>23.774694</td>\n",
       "      <td>0.275793</td>\n",
       "    </tr>\n",
       "    <tr>\n",
       "      <th>2</th>\n",
       "      <td>Polynomial Regression</td>\n",
       "      <td>0.128100</td>\n",
       "      <td>0.024270</td>\n",
       "      <td>0.155788</td>\n",
       "      <td>22.811872</td>\n",
       "      <td>0.329569</td>\n",
       "    </tr>\n",
       "    <tr>\n",
       "      <th>3</th>\n",
       "      <td>Polynomial Regression</td>\n",
       "      <td>0.129457</td>\n",
       "      <td>0.024774</td>\n",
       "      <td>0.157398</td>\n",
       "      <td>23.602663</td>\n",
       "      <td>0.315640</td>\n",
       "    </tr>\n",
       "    <tr>\n",
       "      <th>4</th>\n",
       "      <td>Polynomial Regression</td>\n",
       "      <td>0.152682</td>\n",
       "      <td>0.042763</td>\n",
       "      <td>0.206792</td>\n",
       "      <td>28.932906</td>\n",
       "      <td>-0.181291</td>\n",
       "    </tr>\n",
       "    <tr>\n",
       "      <th>5</th>\n",
       "      <td>Support Vector Regression</td>\n",
       "      <td>0.127901</td>\n",
       "      <td>0.026037</td>\n",
       "      <td>0.161360</td>\n",
       "      <td>22.985381</td>\n",
       "      <td>0.280747</td>\n",
       "    </tr>\n",
       "    <tr>\n",
       "      <th>6</th>\n",
       "      <td>KNeighbour Regression def</td>\n",
       "      <td>0.142593</td>\n",
       "      <td>0.030601</td>\n",
       "      <td>0.174931</td>\n",
       "      <td>26.044935</td>\n",
       "      <td>0.154680</td>\n",
       "    </tr>\n",
       "    <tr>\n",
       "      <th>7</th>\n",
       "      <td>Lasso Regression</td>\n",
       "      <td>0.163517</td>\n",
       "      <td>0.036412</td>\n",
       "      <td>0.190819</td>\n",
       "      <td>31.232854</td>\n",
       "      <td>-0.005844</td>\n",
       "    </tr>\n",
       "    <tr>\n",
       "      <th>8</th>\n",
       "      <td>Poisson Regression</td>\n",
       "      <td>0.159966</td>\n",
       "      <td>0.036106</td>\n",
       "      <td>0.190017</td>\n",
       "      <td>30.413907</td>\n",
       "      <td>0.002592</td>\n",
       "    </tr>\n",
       "    <tr>\n",
       "      <th>9</th>\n",
       "      <td>Decision Tree Regression</td>\n",
       "      <td>0.148223</td>\n",
       "      <td>0.039051</td>\n",
       "      <td>0.197613</td>\n",
       "      <td>28.958055</td>\n",
       "      <td>-0.078751</td>\n",
       "    </tr>\n",
       "    <tr>\n",
       "      <th>10</th>\n",
       "      <td>Random Forest Regression</td>\n",
       "      <td>0.129102</td>\n",
       "      <td>0.029102</td>\n",
       "      <td>0.170594</td>\n",
       "      <td>24.941923</td>\n",
       "      <td>0.196070</td>\n",
       "    </tr>\n",
       "    <tr>\n",
       "      <th>11</th>\n",
       "      <td>Gradient Boost</td>\n",
       "      <td>0.129982</td>\n",
       "      <td>0.025124</td>\n",
       "      <td>0.158507</td>\n",
       "      <td>24.256335</td>\n",
       "      <td>0.305962</td>\n",
       "    </tr>\n",
       "  </tbody>\n",
       "</table>\n",
       "</div>"
      ],
      "text/plain": [
       "                       models       mae       mse      rmse       mape  \\\n",
       "0           Linear Regression  0.128629  0.026078  0.161487  23.599696   \n",
       "1            Ridge Regression  0.129176  0.026216  0.161915  23.774694   \n",
       "2       Polynomial Regression  0.128100  0.024270  0.155788  22.811872   \n",
       "3       Polynomial Regression  0.129457  0.024774  0.157398  23.602663   \n",
       "4       Polynomial Regression  0.152682  0.042763  0.206792  28.932906   \n",
       "5   Support Vector Regression  0.127901  0.026037  0.161360  22.985381   \n",
       "6   KNeighbour Regression def  0.142593  0.030601  0.174931  26.044935   \n",
       "7            Lasso Regression  0.163517  0.036412  0.190819  31.232854   \n",
       "8          Poisson Regression  0.159966  0.036106  0.190017  30.413907   \n",
       "9    Decision Tree Regression  0.148223  0.039051  0.197613  28.958055   \n",
       "10   Random Forest Regression  0.129102  0.029102  0.170594  24.941923   \n",
       "11             Gradient Boost  0.129982  0.025124  0.158507  24.256335   \n",
       "\n",
       "          R2  \n",
       "0   0.279621  \n",
       "1   0.275793  \n",
       "2   0.329569  \n",
       "3   0.315640  \n",
       "4  -0.181291  \n",
       "5   0.280747  \n",
       "6   0.154680  \n",
       "7  -0.005844  \n",
       "8   0.002592  \n",
       "9  -0.078751  \n",
       "10  0.196070  \n",
       "11  0.305962  "
      ]
     },
     "execution_count": 281,
     "metadata": {},
     "output_type": "execute_result"
    }
   ],
   "source": [
    "models_metrics"
   ]
  },
  {
   "cell_type": "code",
   "execution_count": 282,
   "metadata": {
    "scrolled": true
   },
   "outputs": [
    {
     "data": {
      "text/plain": [
       "(array([0, 1, 2, 3, 4, 5, 6, 7, 8, 9]),\n",
       " [Text(0, 0, 'Linear Regression'),\n",
       "  Text(1, 0, 'Ridge Regression'),\n",
       "  Text(2, 0, 'Polynomial Regression'),\n",
       "  Text(3, 0, 'Support Vector Regression'),\n",
       "  Text(4, 0, 'KNeighbour Regression def'),\n",
       "  Text(5, 0, 'Lasso Regression'),\n",
       "  Text(6, 0, 'Poisson Regression'),\n",
       "  Text(7, 0, 'Decision Tree Regression'),\n",
       "  Text(8, 0, 'Random Forest Regression'),\n",
       "  Text(9, 0, 'Gradient Boost')])"
      ]
     },
     "execution_count": 282,
     "metadata": {},
     "output_type": "execute_result"
    },
    {
     "data": {
      "image/png": "[encoded data removed]",
      "text/plain": [
       "<Figure size 504x216 with 1 Axes>"
      ]
     },
     "metadata": {
      "needs_background": "light"
     },
     "output_type": "display_data"
    }
   ],
   "source": [
    "import matplotlib.pyplot as plt\n",
    "import seaborn as sns\n",
    "plot_data = models_metrics\n",
    "plt.figure(figsize=(7, 3))\n",
    "sns.set_theme(style=\"whitegrid\")\n",
    "ax = sns.barplot(x=\"models\", y=\"mae\", data=plot_data)\n",
    "plt.xticks(rotation=90)"
   ]
  },
  {
   "cell_type": "code",
   "execution_count": 283,
   "metadata": {},
   "outputs": [
    {
     "data": {
      "text/plain": [
       "(array([0, 1, 2, 3, 4, 5, 6, 7, 8, 9]),\n",
       " [Text(0, 0, 'Linear Regression'),\n",
       "  Text(1, 0, 'Ridge Regression'),\n",
       "  Text(2, 0, 'Polynomial Regression'),\n",
       "  Text(3, 0, 'Support Vector Regression'),\n",
       "  Text(4, 0, 'KNeighbour Regression def'),\n",
       "  Text(5, 0, 'Lasso Regression'),\n",
       "  Text(6, 0, 'Poisson Regression'),\n",
       "  Text(7, 0, 'Decision Tree Regression'),\n",
       "  Text(8, 0, 'Random Forest Regression'),\n",
       "  Text(9, 0, 'Gradient Boost')])"
      ]
     },
     "execution_count": 283,
     "metadata": {},
     "output_type": "execute_result"
    },
    {
     "data": {
      "image/png": "[encoded data removed]",
      "text/plain": [
       "<Figure size 504x216 with 1 Axes>"
      ]
     },
     "metadata": {},
     "output_type": "display_data"
    }
   ],
   "source": [
    "import matplotlib.pyplot as plt\n",
    "import seaborn as sns\n",
    "plot_data = models_metrics\n",
    "plt.figure(figsize=(7, 3))\n",
    "sns.set_theme(style=\"whitegrid\")\n",
    "ax = sns.barplot(x=\"models\", y=\"mse\", data=plot_data)\n",
    "plt.xticks(rotation=90)"
   ]
  },
  {
   "cell_type": "code",
   "execution_count": 284,
   "metadata": {},
   "outputs": [
    {
     "data": {
      "text/plain": [
       "(array([0, 1, 2, 3, 4, 5, 6, 7, 8, 9]),\n",
       " [Text(0, 0, 'Linear Regression'),\n",
       "  Text(1, 0, 'Ridge Regression'),\n",
       "  Text(2, 0, 'Polynomial Regression'),\n",
       "  Text(3, 0, 'Support Vector Regression'),\n",
       "  Text(4, 0, 'KNeighbour Regression def'),\n",
       "  Text(5, 0, 'Lasso Regression'),\n",
       "  Text(6, 0, 'Poisson Regression'),\n",
       "  Text(7, 0, 'Decision Tree Regression'),\n",
       "  Text(8, 0, 'Random Forest Regression'),\n",
       "  Text(9, 0, 'Gradient Boost')])"
      ]
     },
     "execution_count": 284,
     "metadata": {},
     "output_type": "execute_result"
    },
    {
     "data": {
      "image/png": "[encoded data removed]",
      "text/plain": [
       "<Figure size 504x216 with 1 Axes>"
      ]
     },
     "metadata": {},
     "output_type": "display_data"
    }
   ],
   "source": [
    "import matplotlib.pyplot as plt\n",
    "import seaborn as sns\n",
    "plot_data = models_metrics\n",
    "plt.figure(figsize=(7, 3))\n",
    "sns.set_theme(style=\"whitegrid\")\n",
    "ax = sns.barplot(x=\"models\", y=\"rmse\", data=plot_data)\n",
    "plt.xticks(rotation=90)"
   ]
  },
  {
   "cell_type": "code",
   "execution_count": 285,
   "metadata": {},
   "outputs": [
    {
     "data": {
      "text/plain": [
       "(array([0, 1, 2, 3, 4, 5, 6, 7, 8, 9]),\n",
       " [Text(0, 0, 'Linear Regression'),\n",
       "  Text(1, 0, 'Ridge Regression'),\n",
       "  Text(2, 0, 'Polynomial Regression'),\n",
       "  Text(3, 0, 'Support Vector Regression'),\n",
       "  Text(4, 0, 'KNeighbour Regression def'),\n",
       "  Text(5, 0, 'Lasso Regression'),\n",
       "  Text(6, 0, 'Poisson Regression'),\n",
       "  Text(7, 0, 'Decision Tree Regression'),\n",
       "  Text(8, 0, 'Random Forest Regression'),\n",
       "  Text(9, 0, 'Gradient Boost')])"
      ]
     },
     "execution_count": 285,
     "metadata": {},
     "output_type": "execute_result"
    },
    {
     "data": {
      "image/png": "[encoded data removed]",
      "text/plain": [
       "<Figure size 504x216 with 1 Axes>"
      ]
     },
     "metadata": {},
     "output_type": "display_data"
    }
   ],
   "source": [
    "import matplotlib.pyplot as plt\n",
    "import seaborn as sns\n",
    "plot_data = models_metrics\n",
    "plt.figure(figsize=(7, 3))\n",
    "sns.set_theme(style=\"whitegrid\")\n",
    "ax = sns.barplot(x=\"models\", y=\"mape\", data=plot_data)\n",
    "plt.xticks(rotation=90)"
   ]
  },
  {
   "cell_type": "code",
   "execution_count": 286,
   "metadata": {},
   "outputs": [
    {
     "data": {
      "text/plain": [
       "(array([0, 1, 2, 3, 4, 5, 6, 7, 8, 9]),\n",
       " [Text(0, 0, 'Linear Regression'),\n",
       "  Text(1, 0, 'Ridge Regression'),\n",
       "  Text(2, 0, 'Polynomial Regression'),\n",
       "  Text(3, 0, 'Support Vector Regression'),\n",
       "  Text(4, 0, 'KNeighbour Regression def'),\n",
       "  Text(5, 0, 'Lasso Regression'),\n",
       "  Text(6, 0, 'Poisson Regression'),\n",
       "  Text(7, 0, 'Decision Tree Regression'),\n",
       "  Text(8, 0, 'Random Forest Regression'),\n",
       "  Text(9, 0, 'Gradient Boost')])"
      ]
     },
     "execution_count": 286,
     "metadata": {},
     "output_type": "execute_result"
    },
    {
     "data": {
      "image/png": "[encoded data removed]",
      "text/plain": [
       "<Figure size 504x216 with 1 Axes>"
      ]
     },
     "metadata": {},
     "output_type": "display_data"
    }
   ],
   "source": [
    "import matplotlib.pyplot as plt\n",
    "import seaborn as sns\n",
    "plot_data = models_metrics\n",
    "plt.figure(figsize=(7, 3))\n",
    "sns.set_theme(style=\"whitegrid\")\n",
    "ax = sns.barplot(x=\"models\", y=\"R2\", data=plot_data)\n",
    "plt.xticks(rotation=90)"
   ]
  }
 ],
 "metadata": {
  "kernelspec": {
   "display_name": "Python 3",
   "language": "python",
   "name": "python3"
  },
  "language_info": {
   "codemirror_mode": {
    "name": "ipython",
    "version": 3
   },
   "file_extension": ".py",
   "mimetype": "text/x-python",
   "name": "python",
   "nbconvert_exporter": "python",
   "pygments_lexer": "ipython3",
   "version": "3.8.5"
  }
 },
 "nbformat": 4,
 "nbformat_minor": 4
}
